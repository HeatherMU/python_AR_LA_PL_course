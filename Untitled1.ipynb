{
 "cells": [
  {
   "cell_type": "code",
   "execution_count": null,
   "metadata": {},
   "outputs": [],
   "source": []
  },
  {
   "cell_type": "code",
   "execution_count": 1,
   "metadata": {},
   "outputs": [
    {
     "name": "stdout",
     "output_type": "stream",
     "text": [
      "Hello python!\n",
      "Hello world!\n",
      "__________________________________________________\n",
      "编程让设计更具创造力！\n",
      "Everybody should learn how to code a computer, because it teaches you how to think, and allows designers more creative!\n",
      "加: 6\n",
      "胡佳玉胡佳玉胡佳玉胡佳玉胡佳玉胡佳玉胡佳玉胡佳玉胡佳玉胡佳玉胡佳玉胡佳玉胡佳玉胡佳玉胡佳玉胡佳玉胡佳玉胡佳玉胡佳玉胡佳玉胡佳玉胡佳玉胡佳玉胡佳玉胡佳玉胡佳玉胡佳玉胡佳玉胡佳玉胡佳玉胡佳玉胡佳玉胡佳玉胡佳玉胡佳玉胡佳玉胡佳玉胡佳玉胡佳玉胡佳玉胡佳玉胡佳玉胡佳玉胡佳玉胡佳玉胡佳玉胡佳玉胡佳玉胡佳玉胡佳玉\n",
      "除: 1.3333333333333333\n",
      "整除 1\n",
      "加: 6\n",
      "减: 2\n",
      "乘: 9\n",
      "除: 1.0\n",
      "余数: 1\n",
      "幂: 27\n",
      "81\n",
      "3\n",
      "__________________________________________________\n"
     ]
    }
   ],
   "source": [
    "print('Hello python!') #打印字符串\n",
    "print(\"Hello world!\")\n",
    "print(\"_\"*50)\n",
    "print(\"编程让设计更具创造力！\")\n",
    "print(\"Everybody should learn how to code a computer, because it teaches you how to think, and allows designers more creative!\")\n",
    "print(\"加:\",3+3)\n",
    "print(\"胡佳玉\"*50)\n",
    "print(\"除:\",4/3)\n",
    "print(\"整除\",4//3)\n",
    "print(\"加:\",3+3) #打印简单的运算\n",
    "print(\"减:\",3-1)\n",
    "print(\"乘:\",3*3)\n",
    "print(\"除:\", 3/3)\n",
    "print(\"余数:\",3%2)\n",
    "print(\"幂:\",3**3)\n",
    "print(9**2)\n",
    "print(13%5)\n",
    "print(\"_\"*50)"
   ]
  },
  {
   "cell_type": "code",
   "execution_count": 2,
   "metadata": {},
   "outputs": [
    {
     "name": "stdout",
     "output_type": "stream",
     "text": [
      "beautiful day\n",
      "胡佳玉美女\n",
      "hell\n",
      "gosh\n",
      "gosh\n",
      "__________________________________________________\n"
     ]
    }
   ],
   "source": [
    "if 250==250:\n",
    "    print(\"beautiful day\")\n",
    "if 250!=250:\n",
    "    print(\"胡佳玉帅哥\")\n",
    "else:\n",
    "    print(\"胡佳玉美女\")\n",
    "if 50*5==250:\n",
    "    print(\"hell\")\n",
    "if 13==13:\n",
    "    print(\"gosh\")\n",
    "else:\n",
    "    print(\"hahaha\")\n",
    "if 14!=13:\n",
    "    print(\"gosh\")\n",
    "else:\n",
    "    print(\"hahaha\")\n",
    "print(\"_\"*50)"
   ]
  },
  {
   "cell_type": "code",
   "execution_count": 29,
   "metadata": {},
   "outputs": [
    {
     "name": "stdout",
     "output_type": "stream",
     "text": [
      "11\n",
      "func= 11\n",
      "func=11.00\n",
      "func=11\n",
      "func=+11.000\n",
      "func=11.00\n",
      "func=+11\n"
     ]
    }
   ],
   "source": [
    "x=5\n",
    "func=2*x+1 #当程序逐行从上至下运行时，注意变量定义的顺序\n",
    "print(func)\n",
    "print(\"func=\",func)\n",
    "print(\"func=%.2f\"%func)#格式化 \"%.2f\"b保留小数点后n位\n",
    "print(\"func=%.f\"%func)# \"%.f\"\n",
    "print(\"func=%+.3f\"%func)#保留符号，并且保留小数点后三位\n",
    "print(\"func={:.2f}\".format(func))#格式化format()\n",
    "print(\"func={:+.0f}\".format(func))#保留整数"
   ]
  },
  {
   "cell_type": "code",
   "execution_count": 19,
   "metadata": {},
   "outputs": [
    {
     "name": "stdout",
     "output_type": "stream",
     "text": [
      "一定要搞懂python\n",
      "现在是凌晨2点\n"
     ]
    }
   ],
   "source": [
    "#%s字符串；%d有符号整数（十进制）；%f浮点数\n",
    "print(\"一定要%spython\"%\"搞懂\")\n",
    "print(\"现在是凌晨%d点\"%2)"
   ]
  },
  {
   "cell_type": "code",
   "execution_count": 24,
   "metadata": {},
   "outputs": [
    {
     "name": "stdout",
     "output_type": "stream",
     "text": [
      "我的名字叫做mdx，我今天吃得很饱饱\n",
      "我的名字叫做mdx，mdx今天吃得很饱饱\n",
      "我的名字叫做mdx，mdx今天吃得很饱饱\n"
     ]
    }
   ],
   "source": [
    "#format函数\n",
    "#普通用法，format中的参数，对应{}的依次替换\n",
    "print(\"我的{}叫做{}，我今天吃得很{}\".format(\"名字\",\"mdx\",\"饱饱\"))\n",
    "#设置位置（索引）格式化，format函数中，按索引的参数替换字符串\n",
    "print(\"我的{0}叫做{1}，{1}今天吃得很{2}\".format(\"名字\",\"mdx\",\"饱饱\"))\n",
    "#指定替换参数的值\n",
    "str=\"我的{aa}叫做{bb}，{bb}今天吃得很{cc}\".format(aa=\"名字\",bb=\"mdx\",cc=\"饱饱\")\n",
    "print(str)"
   ]
  },
  {
   "cell_type": "code",
   "execution_count": 30,
   "metadata": {},
   "outputs": [
    {
     "name": "stdout",
     "output_type": "stream",
     "text": [
      "monadic_equation= 11.0\n",
      "monadic_equation=11.00\n",
      "monadic_equation=11.00\n"
     ]
    }
   ],
   "source": [
    "x=5.0\n",
    "monadic_equation=2*x+1#monadic equation:一元方程\n",
    "print(\"monadic_equation=\",monadic_equation)\n",
    "print(\"monadic_equation=%.2f\"%monadic_equation) #%字符串格式化方法1\n",
    "print(\"monadic_equation={:.2f}\".format(monadic_equation)) #format()字符串格式化方法2\n",
    "#object.method(item) %和format格式化是“方法”"
   ]
  },
  {
   "cell_type": "code",
   "execution_count": 31,
   "metadata": {},
   "outputs": [
    {
     "name": "stdout",
     "output_type": "stream",
     "text": [
      "The longitude of the Xi'an coordinate is 108.94, and the latitude is 34.261013.\n",
      "the longitude of xi'an is 108.942292\n"
     ]
    }
   ],
   "source": [
    "city_name=\"Xi'an\"\n",
    "coordinate_longitude=108.942292\n",
    "coordiante_latitude=34.261013\n",
    "print(\"The longitude of the Xi'an coordinate is {lon:.2f}, and the latitude is {lat}.\".format(lon=coordinate_longitude,lat=coordiante_latitude))\n",
    "print(\"the longitude of xi'an is {lon:2f}\".format(lon=coordinate_longitude))"
   ]
  },
  {
   "cell_type": "code",
   "execution_count": 11,
   "metadata": {},
   "outputs": [
    {
     "name": "stdout",
     "output_type": "stream",
     "text": [
      "x=2,y=5,b=7,func_2=26,\n"
     ]
    }
   ],
   "source": [
    "x,y,b=2,5,7 \n",
    "func_2=2*x+3*y+b\n",
    "print(\"x={},y={},b={},func_2={},\".format(x,y,b,func_2))\n",
    "x,y,*z=0,1,2,3,4,5,6\n",
    "#unpacking 序列解包：*表达式获取单个变量中的多个元素，* 获取的值默认为 list\n",
    "; x,y,*z=0,1; (x,y),(a,b)=(0,1),(2,3)"
   ]
  },
  {
   "cell_type": "code",
   "execution_count": 13,
   "metadata": {},
   "outputs": [
    {
     "name": "stdout",
     "output_type": "stream",
     "text": [
      "[3, 4]\n"
     ]
    }
   ],
   "source": [
    "a, b, *c=[1,2,3,4]#多变量解包\n",
    "print(c)"
   ]
  },
  {
   "cell_type": "code",
   "execution_count": 14,
   "metadata": {},
   "outputs": [
    {
     "name": "stdout",
     "output_type": "stream",
     "text": [
      "1\n",
      "[2, 3]\n",
      "4\n"
     ]
    }
   ],
   "source": [
    "n=[1,2,3,4]# 使用切片操作\n",
    "a,b,c=n[0],n[1:-1],n[-1]\n",
    "print(a)\n",
    "print(b)\n",
    "print(c)"
   ]
  },
  {
   "cell_type": "code",
   "execution_count": 38,
   "metadata": {},
   "outputs": [
    {
     "name": "stdout",
     "output_type": "stream",
     "text": [
      "[2, 3, 4, 5, 6]\n",
      "[]\n",
      "0\n",
      "1\n",
      "2 3\n"
     ]
    }
   ],
   "source": [
    "#尝试，x,y,*z=0,1,2,3,4,5,6;x,y,*z=0,1; (x,y),(a,b)=(0,1),(2,3)\n",
    "x,y,*z=0,1,2,3,4,5,6\n",
    "print(z)\n",
    "x,y,*z=0,1\n",
    "print(z)\n",
    "(x,y),(a,b)=(0,1),(2,3)\n",
    "print(x)\n",
    "print(y)\n",
    "print(a,b)"
   ]
  },
  {
   "cell_type": "code",
   "execution_count": 41,
   "metadata": {},
   "outputs": [
    {
     "name": "stdout",
     "output_type": "stream",
     "text": [
      "[5, 8, 11, 14, 17]\n",
      "The list length=5\n",
      "Maximum value=17\n",
      "Minimum value=5\n"
     ]
    }
   ],
   "source": [
    "lst_n=list(range(5,20,3)) #建立列表。range(start,stop,[,step])建立区间。\n",
    "print(lst_n)#包含前面不包含后面\n",
    "print(\"The list length={}\".format(len(lst_n)))\n",
    "print(\"Maximum value={}\".format(max(lst_n)))\n",
    "print(\"Minimum value={}\".format(min(lst_n)))"
   ]
  },
  {
   "cell_type": "code",
   "execution_count": 72,
   "metadata": {},
   "outputs": [
    {
     "name": "stdout",
     "output_type": "stream",
     "text": [
      "Help on class map in module builtins:\n",
      "\n",
      "class map(object)\n",
      " |  map(func, *iterables) --> map object\n",
      " |  \n",
      " |  Make an iterator that computes the function using arguments from\n",
      " |  each of the iterables.  Stops when the shortest iterable is exhausted.\n",
      " |  \n",
      " |  Methods defined here:\n",
      " |  \n",
      " |  __getattribute__(self, name, /)\n",
      " |      Return getattr(self, name).\n",
      " |  \n",
      " |  __iter__(self, /)\n",
      " |      Implement iter(self).\n",
      " |  \n",
      " |  __next__(self, /)\n",
      " |      Implement next(self).\n",
      " |  \n",
      " |  __reduce__(...)\n",
      " |      Return state information for pickling.\n",
      " |  \n",
      " |  ----------------------------------------------------------------------\n",
      " |  Static methods defined here:\n",
      " |  \n",
      " |  __new__(*args, **kwargs) from builtins.type\n",
      " |      Create and return a new object.  See help(type) for accurate signature.\n",
      "\n",
      "Help on built-in function chr in module builtins:\n",
      "\n",
      "chr(i, /)\n",
      "    Return a Unicode string of one character with ordinal i; 0 <= i <= 0x10ffff.\n",
      "\n"
     ]
    }
   ],
   "source": [
    "help(map) #用help()方法查看说明\n",
    "help(chr)"
   ]
  },
  {
   "cell_type": "code",
   "execution_count": 44,
   "metadata": {},
   "outputs": [
    {
     "name": "stdout",
     "output_type": "stream",
     "text": [
      "['d', 'e', 'f', 'g', 'h', 'i', 'j', 'k', 'l', 'm']\n",
      "__________________________________________________\n",
      "[3:6]->['g', 'h', 'i']\n",
      "[-3:-1]->['k', 'l']\n",
      "[-3:]->['k', 'l', 'm']\n",
      "[:3]->['d', 'e', 'f']\n",
      "[:]->['d', 'e', 'f', 'g', 'h', 'i', 'j', 'k', 'l', 'm']\n",
      "[4:6]->['h', 'i']\n",
      "Help on class map in module builtins:\n",
      "\n",
      "class map(object)\n",
      " |  map(func, *iterables) --> map object\n",
      " |  \n",
      " |  Make an iterator that computes the function using arguments from\n",
      " |  each of the iterables.  Stops when the shortest iterable is exhausted.\n",
      " |  \n",
      " |  Methods defined here:\n",
      " |  \n",
      " |  __getattribute__(self, name, /)\n",
      " |      Return getattr(self, name).\n",
      " |  \n",
      " |  __iter__(self, /)\n",
      " |      Implement iter(self).\n",
      " |  \n",
      " |  __next__(self, /)\n",
      " |      Implement next(self).\n",
      " |  \n",
      " |  __reduce__(...)\n",
      " |      Return state information for pickling.\n",
      " |  \n",
      " |  ----------------------------------------------------------------------\n",
      " |  Static methods defined here:\n",
      " |  \n",
      " |  __new__(*args, **kwargs) from builtins.type\n",
      " |      Create and return a new object.  See help(type) for accurate signature.\n",
      "\n",
      "Help on built-in function chr in module builtins:\n",
      "\n",
      "chr(i, /)\n",
      "    Return a Unicode string of one character with ordinal i; 0 <= i <= 0x10ffff.\n",
      "\n"
     ]
    }
   ],
   "source": [
    "lst_s=list(map(chr,range(100,110)))#分片:按照一定的顺序访问序列中某一范围内的元素\n",
    "#在一定的访问顺序中，indexStart所对应的元素必须先于indexEnd所对应的元素被访问到，否则分片操作返回的就是空的序列\n",
    "#先看访问顺序，其实就是先看步长，因访问顺序是由步长来决定的，\n",
    "#当步长为正时：按从原始序列sequence的头部(从左)到尾部(到右)的顺序访问序列中的元素，indexStart在原始序列sequence中所对应的元素必须出现在indexEnd所对应的元素的左边\n",
    "#当步长为负时：按从原始序列sequence的尾部(从右)到头部(到左)的顺序访问序列中的元素，indexStart在原始序列sequence中所对应的元素必须出现在indexEnd所对应的元素的右边\n",
    "print(lst_s)\n",
    "print(\"_\"*50)\n",
    "print(\"[3:6]->{}\".format(lst_s[3:6]))#步长为1\n",
    "print(\"[-3:-1]->{}\".format(lst_s[-3:-1]))\n",
    "print(\"[-3:]->{}\".format(lst_s[-3:]))\n",
    "print(\"[:3]->{}\".format(lst_s[:3]))\n",
    "print(\"[:]->{}\".format(lst_s[:]))\n",
    "print(\"[4:6]->{}\".format(lst_s[4:6]))"
   ]
  },
  {
   "cell_type": "code",
   "execution_count": 45,
   "metadata": {},
   "outputs": [
    {
     "name": "stdout",
     "output_type": "stream",
     "text": [
      "['d', 'e', 'f', 'g', 'h', 'i', 'j', 'k', 'l', 'm']\n",
      "__________________________________________________\n",
      "[0:10:2]->['d', 'f', 'h', 'j', 'l']\n",
      "[0:9:2]->['d', 'f', 'h', 'j', 'l']\n",
      "[0:10:3]->['d', 'g', 'j', 'm']\n",
      "[::3]->['d', 'g', 'j', 'm']\n",
      "[9:3:-2]->['m', 'k', 'i']\n",
      "[10:3:-2]->['m', 'k', 'i']\n",
      "[20:3:-2]->['m', 'k', 'i']\n",
      "[7::-2]->['k', 'i', 'g', 'e']\n",
      "[:3:-2]->['m', 'k', 'i']\n"
     ]
    }
   ],
   "source": [
    "print(lst_s)\n",
    "print(\"_\"*50)\n",
    "print(\"[0:10:2]->{}\".format(lst_s[0:10:2]))#带不等于1的步长\n",
    "print(\"[0:9:2]->{}\".format(lst_s[0:9:2]))\n",
    "print(\"[0:10:3]->{}\".format(lst_s[0:10:3]))\n",
    "print(\"[::3]->{}\".format(lst_s[::3]))\n",
    "print(\"[9:3:-2]->{}\".format(lst_s[9:3:-2]))\n",
    "print(\"[10:3:-2]->{}\".format(lst_s[10:3:-2]))\n",
    "print(\"[20:3:-2]->{}\".format(lst_s[20:3:-2]))\n",
    "print(\"[7::-2]->{}\".format(lst_s[7::-2]))\n",
    "print(\"[:3:-2]->{}\".format(lst_s[:3:-2]))"
   ]
  },
  {
   "cell_type": "code",
   "execution_count": 52,
   "metadata": {},
   "outputs": [
    {
     "name": "stdout",
     "output_type": "stream",
     "text": [
      "['d', 'e', 'f', 'g', 'h', 99, 'j', 'k', 'l', 'm']\n",
      "lst_s[5]=99->['d', 'e', 'f', 'g', 'h', 99, 'j', 'k', 'l', 'm']\n",
      "lst_s+[None]*6->['d', 'e', 'f', 'g', 'h', 99, 'j', 'k', 'l', 'm', None, None, None, None, None, None]\n",
      "lst_none[13]=2015->['d', 'e', 'f', 'g', 'h', 99, 'j', 'k', 'l', 'm', None, None, None, 2015, None, None]\n",
      "lst_none[-6:-3]=list(range(100,106,2))->['d', 'e', 'f', 'g', 'h', 99, 'j', 'k', 'l', 'm', 100, 102, 104, 2015, None, None]\n",
      "lst_none[-6:-3]=list(range(100,104,2))->['d', 'e', 'f', 'g', 'h', 99, 'j', 'k', 'l', 'm', 100, 102, 2015, None, None]\n",
      "lst_none[1:1]=[0,0,0,12]->['d', 0, 0, 0, 12, 'e', 'f', 'g', 'h', 99, 'j', 'k', 'l', 'm', 100, 102, 2015, None, None]\n",
      "lst_none[0:0]=[0,0,0,12]->[0, 0, 0, 12, 'd', 0, 0, 0, 12, 'e', 'f', 'g', 'h', 99, 'j', 'k', 'l', 'm', 100, 102, 2015, None, None]\n",
      "lst_none[1:2]=[0,0,0,12]->[0, 0, 0, 0, 12, 0, 12, 'd', 0, 0, 0, 12, 'e', 'f', 'g', 'h', 99, 'j', 'k', 'l', 'm', 100, 102, 2015, None, None]\n",
      "del lst_none[-2:]->[0, 0, 0, 0, 12, 0, 12, 'd', 0, 0, 0, 12, 'e', 'f', 'g', 'h', 99, 'j', 'k', 'l', 'm', 100, 102, 2015]\n",
      "del lst_none[:-2]->[102, 2015]\n"
     ]
    }
   ],
   "source": [
    "print(lst_s)\n",
    "lst_s[5]=99 #元素赋值,替换\n",
    "print(\"lst_s[5]=99->{}\".format(lst_s))\n",
    "lst_none=lst_s+[None]*6#合并\n",
    "print(\"lst_s+[None]*6->{}\".format(lst_none))\n",
    "lst_none[13]=2015\n",
    "print(\"lst_none[13]=2015->{}\".format(lst_none))\n",
    "lst_none[-6:-3]=list(range(100,106,2)) #分片赋值\n",
    "print(\"lst_none[-6:-3]=list(range(100,106,2))->{}\".format(lst_none))\n",
    "lst_none[-6:-3]=list(range(100,104,2)) #分片赋值,分片区间和赋值区间长度不相同，从左到右\n",
    "print(\"lst_none[-6:-3]=list(range(100,104,2))->{}\".format(lst_none))\n",
    "lst_none[1:1]=[0,0,0,12]#0，1之间插入\n",
    "print(\"lst_none[1:1]=[0,0,0,12]->{}\".format(lst_none))\n",
    "lst_none[0:0]=[0,0,0,12]\n",
    "print(\"lst_none[0:0]=[0,0,0,12]->{}\".format(lst_none))\n",
    "lst_none[1:2]=[0,0,0,12]#替换第1个\n",
    "print(\"lst_none[1:2]=[0,0,0,12]->{}\".format(lst_none))\n",
    "del lst_none[-2:] #删除元素\n",
    "print(\"del lst_none[-2:]->{}\".format(lst_none))\n",
    "del lst_none[:-2]\n",
    "print(\"del lst_none[:-2]->{}\".format(lst_none))"
   ]
  },
  {
   "cell_type": "code",
   "execution_count": 79,
   "metadata": {},
   "outputs": [
    {
     "name": "stdout",
     "output_type": "stream",
     "text": [
      "['d', 'e', 'f', 'g', 'h']\n",
      "['A', 'B', 'C', 'D', 'E', 'F', 'G', 'H', 'I', 'J']\n",
      "['B', 'C', 'D']\n"
     ]
    }
   ],
   "source": [
    "lst_s_2=list(map(chr,range(100,105)))\n",
    "print(lst_s_2)\n",
    "#chr函数：查找对应的ascii码\n",
    "lst_3=list(map(chr,range(65,75)))\n",
    "print(lst_3)\n",
    "lst_4=list(map(chr,[66,67,68]))\n",
    "print(lst_4)"
   ]
  },
  {
   "cell_type": "code",
   "execution_count": 105,
   "metadata": {},
   "outputs": [
    {
     "name": "stdout",
     "output_type": "stream",
     "text": [
      "[100, 102, 103, 104, 105]\n",
      "[1, 2, 3]\n"
     ]
    }
   ],
   "source": [
    "lst1=list(map(int,(100,102,103,104,105)))#map函数用法:转换xx格式为list\n",
    "print(lst1)\n",
    "lst2=list(map(int,'123'))#字符串转换为list\n",
    "print(lst2)"
   ]
  },
  {
   "cell_type": "code",
   "execution_count": 131,
   "metadata": {},
   "outputs": [
    {
     "name": "stdout",
     "output_type": "stream",
     "text": [
      "{16}\n",
      "[{1}, {4}, {9}, {16}]\n"
     ]
    }
   ],
   "source": [
    "def func(x):\n",
    "    return{x**2}\n",
    "\n",
    "print(func(4))\n",
    "lst3=list(map(func,(1,2,3,4)))  \n",
    "print(lst3)#map函数加自定义函数"
   ]
  },
  {
   "cell_type": "code",
   "execution_count": 135,
   "metadata": {},
   "outputs": [
    {
     "name": "stdout",
     "output_type": "stream",
     "text": [
      "['d', 'e', 'f', 'g', 'h']\n",
      "lst_s_2.append(99)->['d', 'e', 'f', 'g', 'h', 99]\n",
      "['d', 'e', 'f', 'g', 'h', 99, 886]\n",
      "['d', 'e', 'f', 'g', 'h', 99, 886, [50, 55, 60, 65, 70, 75]]\n"
     ]
    }
   ],
   "source": [
    "lst_s_2=list(map(chr,range(100,105)))\n",
    "print(lst_s_2)\n",
    "lst_s_2.append(99)#append方法：在末尾添加新对象，append：附加\n",
    "print(\"lst_s_2.append(99)->{}\".format(lst_s_2))\n",
    "lst_s_2.append(886)\n",
    "print(lst_s_2)\n",
    "lst_s_2.append(list(range(50,80,5)))#加list\n",
    "print(lst_s_2)"
   ]
  },
  {
   "cell_type": "code",
   "execution_count": 151,
   "metadata": {},
   "outputs": [
    {
     "name": "stdout",
     "output_type": "stream",
     "text": [
      "lst_s_2.extend(lst_spechars)->['d', 'e', [1000, 1200, 1500], [1000, 1200, 1500], [1000, 1200, 1500], 'f', 'g', [50, 55, 60, 65, 70, 75], '*', ')', '*', '*', ')', '*', '*', ')', '*', '*', ')', '*', '*', ')', '*', '*', ')', '*', '*', ')', '*', '*', ')', '*', '*', ')', '*', '*', ')', '*', '*', ')', '*', '*', ')', '*']\n",
      "lst_s_2.count('*')=24\n",
      "lst_s_2.index('e')=1\n"
     ]
    }
   ],
   "source": [
    "lst_sa=['*',')','*']\n",
    "lst_s_2.extend(lst_sa)#extend函数：list叠加\n",
    "print(\"lst_s_2.extend(lst_spechars)->{}\".format(lst_s_2))\n",
    "print(\"lst_s_2.count('*')={}\".format(lst_s_2.count('*')))#运行n次的结果\n",
    "#带索引值的count方法in string\n",
    "print(\"lst_s_2.index('e')={}\".format(lst_s_2.index('e')))#查找对象的索引位置，没有对象error"
   ]
  },
  {
   "cell_type": "code",
   "execution_count": 160,
   "metadata": {},
   "outputs": [
    {
     "name": "stdout",
     "output_type": "stream",
     "text": [
      "lst_s_2.insert(2,[1000,1200,1500])->['d', 'e', [1000, 1200, 1500], [1000, 1200, 1500], [1000, 1200, 1500], [1000, 1200, 1500], [1000, 1200, 1500], [1000, 1200, 1500], [1000, 1200, 1500], [1000, 1200, 1500], [50, 55, 60, 65, 70, 75], ')', '*', '*', ')', '*', '*', ')', '*', '*', ')', '*', '*', ')', '*', '*', ')', '*', '*', ')', '*', '*', ')', '*', '*', ')', '*', '*', ')', '*', '*', ')', '*', '*', ')', '*']\n",
      "lst_s_2.insert(4,[14,15])->['d', 'e', [1000, 1200, 1500], [1000, 1200, 1500], [1000, 1200, 1500], [1000, 1200, 1500], [1000, 1200, 1500], [14, 15], [1000, 1200, 1500], [1000, 1200, 1500], [1000, 1200, 1500], [50, 55, 60, 65, 70, 75], ')', '*', '*', ')', '*', '*', ')', '*', '*', ')', '*', '*', ')', '*', '*', ')', '*', '*', ')', '*', '*', ')', '*', '*', ')', '*', '*', ')', '*', '*', ')', '*', '*', ')', '*']\n"
     ]
    }
   ],
   "source": [
    "lst_s_2.insert(2,[1000,1200,1500])#插入到索引2的后面\n",
    "print(\"lst_s_2.insert(2,[1000,1200,1500])->{}\".format(lst_s_2))\n",
    "lst_s_2.insert(7,[14,15])\n",
    "print(\"lst_s_2.insert(4,[14,15])->{}\".format(lst_s_2))"
   ]
  },
  {
   "cell_type": "code",
   "execution_count": 177,
   "metadata": {},
   "outputs": [
    {
     "name": "stdout",
     "output_type": "stream",
     "text": [
      "list_n_2.sort()->[2, 3, 4, 6, 42, 95]\n"
     ]
    }
   ],
   "source": [
    "list_n_2=[2,42,6,95,4,3]\n",
    "list_n_2.sort()#默认升序排序\n",
    "print(\"list_n_2.sort()->{}\".format(list_n_2))"
   ]
  },
  {
   "cell_type": "code",
   "execution_count": 155,
   "metadata": {},
   "outputs": [
    {
     "name": "stdout",
     "output_type": "stream",
     "text": [
      "lst_m.pop(3)_popup->g\n",
      "lst_m.pop(3)_retention->['d', 'e', 'f', 'h']\n"
     ]
    }
   ],
   "source": [
    "lst_m=list(map(chr,range(100,105)))\n",
    "print(\"lst_m.pop(3)_popup->{}\".format(lst_m.pop(3)))\n",
    "print(\"lst_m.pop(3)_retention->{}\".format(lst_m))#retention:保留"
   ]
  },
  {
   "cell_type": "code",
   "execution_count": 173,
   "metadata": {},
   "outputs": [
    {
     "name": "stdout",
     "output_type": "stream",
     "text": [
      "['d', 'e', [22, 22, 22], 's', 's', 'f', 'h']\n"
     ]
    }
   ],
   "source": [
    "print(lst_m)"
   ]
  },
  {
   "cell_type": "code",
   "execution_count": 174,
   "metadata": {
    "scrolled": true
   },
   "outputs": [
    {
     "name": "stdout",
     "output_type": "stream",
     "text": [
      "lst_m.remove('s')_retention->['d', 'e', [22, 22, 22], 's', 'f', 'h']\n"
     ]
    }
   ],
   "source": [
    "lst_m.remove('s')#移除符合的第一个元素\n",
    "print(\"lst_m.remove('s')_retention->{}\".format(lst_m))"
   ]
  },
  {
   "cell_type": "code",
   "execution_count": 179,
   "metadata": {},
   "outputs": [
    {
     "name": "stdout",
     "output_type": "stream",
     "text": [
      "tuple_1=2,3,5,->(2, 3, 5)\n",
      "3*(20*3,)->(60, 60, 60)\n",
      "tuple((5,8,9))->(5, 8, 9)\n",
      "tuple([5,8,9])->(5, 8, 9)\n"
     ]
    }
   ],
   "source": [
    "tuple_1=2,3,5,\n",
    "print(\"tuple_1=2,3,5,->{}\".format(tuple_1))\n",
    "print(\"3*(20*3,)->{}\".format(3*(20*3,)))\n",
    "print(\"tuple((5,8,9))->{}\".format(tuple((5,8,9)))) #用()\n",
    "print(\"tuple([5,8,9])->{}\".format(tuple([5,8,9]))) #用[]"
   ]
  },
  {
   "cell_type": "code",
   "execution_count": 180,
   "metadata": {},
   "outputs": [
    {
     "name": "stdout",
     "output_type": "stream",
     "text": [
      "items->[(0, [0, 1, 2, 3, 4]), (1, [[196, 119, 174]]), (2, 'python')]\n",
      "dic=dict(items)->{0: [0, 1, 2, 3, 4], 1: [[196, 119, 174]], 2: 'python'}\n",
      "dic[1]->[[196, 119, 174]]\n"
     ]
    }
   ],
   "source": [
    "#dict只需要考虑使用键寻找值的方法，而不用像列表一样计算项值位置的索引值再提取项值\n",
    "import random\n",
    "items=[(0,[i for i in range(5)]),(1,[random.sample(list(range(100,200,1)),3)]),(2,'python')] #[i for i in range(5)] 为列表推导式 list comprehension/derivation\n",
    "print(\"items->{}\".format(items))\n",
    "dic=dict(items)\n",
    "print(\"dic=dict(items)->{}\".format(dic))\n",
    "print(\"dic[1]->{}\".format(dic[1]))"
   ]
  },
  {
   "cell_type": "code",
   "execution_count": 184,
   "metadata": {},
   "outputs": [
    {
     "name": "stdout",
     "output_type": "stream",
     "text": [
      "items->[(3, (1, 2, 3)), (4, [5, 6, 7]), (1, '哈哈')]\n",
      "dic[3]->(1, 2, 3)\n",
      "dic[1]->哈哈\n"
     ]
    }
   ],
   "source": [
    "import random\n",
    "items=[(3,(1,2,3)),(4,[5,6,7]),(1,\"哈哈\")]\n",
    "#字典中的键必须是唯一的，并且键的类型必须是不可变的数据类型，如字符串，数字或元组:不能是list\n",
    "print(\"items->{}\".format(items))\n",
    "dic=dict(items)\n",
    "print(\"dic[3]->{}\".format(dic[3]))\n",
    "print(\"dic[1]->{}\".format(dic[1]))"
   ]
  },
  {
   "cell_type": "code",
   "execution_count": 190,
   "metadata": {},
   "outputs": [
    {
     "name": "stdout",
     "output_type": "stream",
     "text": [
      "len(dic)->2\n",
      "dic[3]=(random.random(),random.uniform(200,300))->{3: (0.6142332391438945, 271.1587314529925), 4: [5, 6, 7]}\n",
      "del dic[4]->{3: (0.6142332391438945, 271.1587314529925)}\n"
     ]
    }
   ],
   "source": [
    "print(\"len(dic)->{}\".format(len(dic)))#len(dic)测量长度\n",
    "dic[3]=(random.random(),random.uniform(200,300))#random.random生成0-1随机浮点数；random.uniform(x,y)生成x-y随机\n",
    "print(\"dic[3]=(random.random(),random.uniform(200,300))->{}\".format(dic))\n",
    "del dic[4]\n",
    "print(\"del dic[4]->{}\".format(dic))#删除"
   ]
  },
  {
   "cell_type": "code",
   "execution_count": 191,
   "metadata": {},
   "outputs": [
    {
     "name": "stdout",
     "output_type": "stream",
     "text": [
      "3 in dic->True\n",
      "5 in dic->False\n",
      "dic.keys()->dict_keys([3])\n",
      "dic.values()->dict_values([(0.6142332391438945, 271.1587314529925)])\n",
      "dic.items()->dict_items([(3, (0.6142332391438945, 271.1587314529925))])\n",
      "__________________________________________________\n",
      "list(dic.keys())->[3]\n"
     ]
    }
   ],
   "source": [
    "print(\"3 in dic->{}\".format(3 in dic))#里面有3true\n",
    "print(\"5 in dic->{}\".format(5 in dic))#里面没5false\n",
    "print(\"dic.keys()->{}\".format(dic.keys())) #返回所有的键\n",
    "print(\"dic.values()->{}\".format(dic.values()))#返回所有的值\n",
    "print(\"dic.items()->{}\".format(dic.items()))#返回列表，但元素是元组\n",
    "print(\"_\"*50)\n",
    "print(\"list(dic.keys())->{}\".format(list(dic.keys())))#列出键"
   ]
  },
  {
   "cell_type": "code",
   "execution_count": 1,
   "metadata": {},
   "outputs": [
    {
     "name": "stdout",
     "output_type": "stream",
     "text": [
      "lst_A=[6, 9, 12, 15, 18],lst_B=[100, 115, 130, 145]\n",
      "dic_2={0: [6, 9, 12, 15, 18], 1: [100, 115, 130, 145]}\n",
      "__________________________________________________\n",
      "dic_assignment={0: [6, 9, 12, 15, 18], 1: [100, 115, 130, 145]}\n"
     ]
    }
   ],
   "source": [
    "#字典的方法\n",
    "lst_A=list(range(6,20,3))\n",
    "lst_B=list(range(100,150,15))\n",
    "print(\"lst_A={},lst_B={}\".format(lst_A,lst_B))\n",
    "dic_2={0:lst_A,1:lst_B}\n",
    "print(\"dic_2={}\".format(dic_2))\n",
    "print(\"_\"*50)\n",
    "dic_assignment=dic_2\n",
    "print(\"dic_assignment={}\".format(dic_assignment))"
   ]
  },
  {
   "cell_type": "code",
   "execution_count": 14,
   "metadata": {},
   "outputs": [
    {
     "name": "stdout",
     "output_type": "stream",
     "text": [
      "dic_2.clear()->{}\n",
      "dic_assignment={}\n",
      "dic_2[5]=list(range(1,9,2))->{5: [1, 3, 5, 7]}\n",
      "dic_copy=dic_2.copy()->{5: [1, 3, 5, 7]}\n",
      "dic_2[8]=[5,7]->{5: [1, 3, 5, 7], 8: [5, 7]}\n",
      "dic_copy={5: [1, 3, 5, 7]}\n",
      "{5: [1, 3, 5, 7], 8: [5, 7], 9: [3, 3, 3]}\n",
      "dic_copy[5].remove(5)->{5: [1, 3, 7]}\n"
     ]
    }
   ],
   "source": [
    "dic_2.clear()#clear清除字典中的所有值\n",
    "print(\"dic_2.clear()->{}\".format(dic_2))\n",
    "print(\"dic_assignment={}\".format(dic_assignment))\n",
    "dic_2[5]=list(range(1,9,2))\n",
    "print(\"dic_2[5]=list(range(1,9,2))->{}\".format(dic_2))\n",
    "dic_copy=dic_2.copy()\n",
    "print(\"dic_copy=dic_2.copy()->{}\".format(dic_copy))\n",
    "dic_2[8]=[5,7]#增加key&valu3\n",
    "print(\"dic_2[8]=[5,7]->{}\".format(dic_2))\n",
    "print(\"dic_copy={}\".format(dic_copy))\n",
    "dic_2[9]=[3,3,3]\n",
    "print(dic_2)\n",
    "dic_copy[5].remove(5)\n",
    "print(\"dic_copy[5].remove(5)->{}\".format(dic_copy))"
   ]
  },
  {
   "cell_type": "code",
   "execution_count": 13,
   "metadata": {},
   "outputs": [
    {
     "name": "stdout",
     "output_type": "stream",
     "text": [
      "dic_copy[5].remove(5)->{5: [1, 3, 7]}\n",
      "dic_copy.setdefault(6,[77,99])->{5: [1, 3, 7], 6: [77, 99]}\n"
     ]
    }
   ],
   "source": [
    "dic_copy[5].remove(5)#移除value中的元素\n",
    "print(\"dic_copy[5].remove(5)->{}\".format(dic_copy))\n",
    "dic_copy.setdefault(6,[77,99]) #返回指定键的值，如果不存在该键，则字典增加新的键/值对\n",
    "print(\"dic_copy.setdefault(6,[77,99])->{}\".format(dic_copy))"
   ]
  },
  {
   "cell_type": "code",
   "execution_count": 32,
   "metadata": {},
   "outputs": [
    {
     "name": "stdout",
     "output_type": "stream",
     "text": [
      "lst_A=[6, 9, 12, 15, 18],lst_B=[100, 115, 130, 145]\n",
      "dic_2={0: [6, 9, 12, 15, 18], 1: [100, 115, 130, 145]}\n",
      "__________________________________________________\n",
      "dic_2[5]=list(range(1,9,2))->{0: [6, 9, 12, 15, 18], 1: [100, 115, 130, 145], 5: [1, 3, 5, 7]}\n",
      "dic_copy=dic_2.copy()->{0: [6, 9, 12, 15, 18], 1: [100, 115, 130, 145], 5: [1, 3, 5, 7]}\n",
      "dic_2[8]=[5,7]->{0: [6, 9, 12, 15, 18], 1: [100, 115, 130, 145], 5: [1, 3, 5, 7], 8: [5, 7]}\n",
      "dic_copy={0: [6, 9, 12, 15, 18], 1: [100, 115, 130, 145], 5: [1, 3, 5, 7]}\n",
      "dic_copy[5].remove(5)->{0: [6, 9, 12, 15, 18], 1: [100, 115, 130, 145], 5: [1, 3, 7]}\n",
      "dic_copy.setdefault(6,[77,99])->{0: [6, 9, 12, 15, 18], 1: [100, 115, 130, 145], 5: [1, 3, 7], 6: [77, 99]}\n",
      "{0: [6, 9, 12, 15, 18], 1: [100, 115, 130, 145], 5: [1, 3, 7], 8: [5, 7]}\n"
     ]
    },
    {
     "data": {
      "text/plain": [
       "[1, 3, 7]"
      ]
     },
     "execution_count": 32,
     "metadata": {},
     "output_type": "execute_result"
    }
   ],
   "source": [
    "lst_A=list(range(6,20,3))\n",
    "lst_B=list(range(100,150,15))\n",
    "print(\"lst_A={},lst_B={}\".format(lst_A,lst_B))\n",
    "dic_2={0:lst_A,1:lst_B}\n",
    "print(\"dic_2={}\".format(dic_2))\n",
    "print(\"_\"*50)\n",
    "dic_2[5]=list(range(1,9,2))\n",
    "print(\"dic_2[5]=list(range(1,9,2))->{}\".format(dic_2))\n",
    "dic_copy=dic_2.copy()\n",
    "print(\"dic_copy=dic_2.copy()->{}\".format(dic_copy))\n",
    "dic_2[8]=[5,7]\n",
    "print(\"dic_2[8]=[5,7]->{}\".format(dic_2))\n",
    "print(\"dic_copy={}\".format(dic_copy))\n",
    "dic_copy[5].remove(5)\n",
    "print(\"dic_copy[5].remove(5)->{}\".format(dic_copy))\n",
    "dic_copy.setdefault(6,[77,99]) #返回指定键的值，如果不存在该键，则字典增加新的键/值对\n",
    "print(\"dic_copy.setdefault(6,[77,99])->{}\".format(dic_copy))\n",
    "print(dic_2)\n",
    "dic_2.pop(5) #移除指定键/值，并返回该值(用于获取指定 key 对应的 value，并删除这个 key-value 对)"
   ]
  },
  {
   "cell_type": "code",
   "execution_count": 37,
   "metadata": {},
   "outputs": [
    {
     "name": "stdout",
     "output_type": "stream",
     "text": [
      "dic_2.pop(5)->{0: [6, 9, 12, 15, 18]}\n",
      "dic_update={8: [5, 7, 6, 3, 2], 9: [3, 2, 33, 55, 66]}\n",
      "dic_2.update(dic_update->{0: [6, 9, 12, 15, 18], 8: [5, 7, 6, 3, 2], 9: [3, 2, 33, 55, 66]}\n",
      "dic_2.get(9)->[3, 2, 33, 55, 66]\n",
      "{0: [6, 9, 12, 15, 18], 8: [5, 7, 6, 3, 2], 9: [3, 2, 33, 55, 66]}\n"
     ]
    }
   ],
   "source": [
    "print(\"dic_2.pop(5)->{}\".format(dic_2))\n",
    "dic_update={8:[5,7,6,3,2],9:[3,2,33,55,66]}\n",
    "print(\"dic_update={}\".format(dic_update))\n",
    "dic_2.update(dic_update) #更新字典\n",
    "print(\"dic_2.update(dic_update->{}\".format(dic_2))\n",
    "print(\"dic_2.get(9)->{}\".format(dic_2.get(9)))\n",
    "print(dic_2)"
   ]
  },
  {
   "cell_type": "code",
   "execution_count": 44,
   "metadata": {},
   "outputs": [
    {
     "name": "stdout",
     "output_type": "stream",
     "text": [
      "dic_update={8: [5, 7, 6, 3, 2], 9: [3, 2, 33, 55, 66]}\n",
      "dic_2.popitem()->{8: [5, 7, 6, 3, 2]}\n",
      "{8: [5, 7, 6, 3, 2]}\n"
     ]
    }
   ],
   "source": [
    "dic_update={8:[5,7,6,3,2],9:[3,2,33,55,66]}\n",
    "print(\"dic_update={}\".format(dic_update))\n",
    "dic_2.update(dic_update)\n",
    "dic_2.popitem() #随机弹出一对键/值，并在该字典中移除\n",
    "print(\"dic_2.popitem()->{}\".format(dic_2))\n",
    "print(dic_2)#删完了又加了"
   ]
  },
  {
   "cell_type": "code",
   "execution_count": 48,
   "metadata": {},
   "outputs": [
    {
     "name": "stdout",
     "output_type": "stream",
     "text": [
      "dic_update={10: [5, 7, 6, 3, 2], 11: [3, 2, 33, 55, 66]}\n",
      "dic_2.popitem()->{8: [5, 7, 6, 3, 2], 10: [5, 7, 6, 3, 2]}\n",
      "{8: [5, 7, 6, 3, 2], 10: [5, 7, 6, 3, 2]}\n"
     ]
    }
   ],
   "source": [
    "dic_update={10:[5,7,6,3,2],11:[3,2,33,55,66]}\n",
    "print(\"dic_update={}\".format(dic_update))\n",
    "dic_2.update(dic_update)\n",
    "dic_2.popitem() #随机弹出一对键/值，并在该字典中移除\n",
    "print(\"dic_2.popitem()->{}\".format(dic_2))\n",
    "print(dic_2)"
   ]
  },
  {
   "cell_type": "code",
   "execution_count": 47,
   "metadata": {},
   "outputs": [
    {
     "name": "stdout",
     "output_type": "stream",
     "text": [
      "dic_3={}.fromkeys([0,1,2,3,4,'A'])->{0: None, 1: None, 2: None, 3: None, 4: None, 'A': None}\n"
     ]
    }
   ],
   "source": [
    "dic_3={}.fromkeys([0,1,2,3,4,'A']) #给定键，建立值为空的字典\n",
    "print(\"dic_3={}\"+\".fromkeys([0,1,2,3,4,'A'])->{}\".format(dic_3)) #找下escape characters 脱字符"
   ]
  },
  {
   "cell_type": "code",
   "execution_count": 49,
   "metadata": {},
   "outputs": [
    {
     "name": "stdout",
     "output_type": "stream",
     "text": [
      "dic_3={0: None, 1: None, 2: None, 3: None, 4: None, 'ff': None, '嘿嘿': None}\n"
     ]
    }
   ],
   "source": [
    "dic_3={}.fromkeys([0,1,2,3,4,'ff',\"嘿嘿\"]) \n",
    "print(\"dic_3={}\".format(dic_3)) "
   ]
  },
  {
   "cell_type": "code",
   "execution_count": 1,
   "metadata": {},
   "outputs": [
    {
     "name": "stdout",
     "output_type": "stream",
     "text": [
      "['H', 'e', 'l', 'l', 'o', ' ', 'P', 'y', 't', 'h', 'o', 'n', '!']\n",
      "lst_s_3=list(\"Hello Python!\")->['H', 'e', 'l', 'l', 'o', ' ', 'P', 'y', 't', 'h', 'o', 'n', '!']\n",
      "\"Hellow\"+\" Python!\"->Hellow Python!\n",
      "\"+\".join(str(123456))->1+2+3+4+5+6\n",
      "len(\"Hellow Python!\")->14\n"
     ]
    }
   ],
   "source": [
    "lst_s_3=list(\"Hello Python!\")\n",
    "print(lst_s_3)\n",
    "print(\"lst_s_3=list(\\\"Hello Python!\\\")->{}\".format(lst_s_3)) #\"\\\" escape character续行符\n",
    "print(\"\\\"Hellow\\\"+\\\" Python!\\\"->{}\".format(\"Hellow\"+\" Python!\"))\n",
    "print(\"\\\"+\\\".join(str(123456))->{}\".format(\"+\".join(str(123456))))\n",
    "print(\"len(\\\"Hellow Python!\\\")->{}\".format(len(\"Hellow Python!\")))"
   ]
  },
  {
   "cell_type": "code",
   "execution_count": 1,
   "metadata": {},
   "outputs": [
    {
     "name": "stdout",
     "output_type": "stream",
     "text": [
      "Python 2838834361648\n",
      "Python 2838834361648\n",
      "Python 2838834361648\n"
     ]
    }
   ],
   "source": [
    "a='Python'#分别用单双三引号定义string（不可变）\n",
    "b=\"Python\"\n",
    "c='''Python'''\n",
    "print(a,id(a))#字符串驻留机制：相同字符串只保留一份拷贝，后续创建相同字符串时不会开辟新的空间，而是把该字符串的抵制赋给新创建的变量\n",
    "print(b,id(b))\n",
    "print(c,id(c))"
   ]
  },
  {
   "cell_type": "code",
   "execution_count": 50,
   "metadata": {},
   "outputs": [
    {
     "name": "stdout",
     "output_type": "stream",
     "text": [
      "coordinates.split(\",\")->['120.132007', '30.300508', '9.7']\n",
      "eval(coordinates)->(120.132007, 30.300508, 9.7)\n",
      "\"Hello Python!\".lower()->hello python!\n",
      "\"Hello Python!\".upper()->HELLO PYTHON!\n",
      "\"Hello Python!\"[6:]->Python!\n"
     ]
    }
   ],
   "source": [
    "coordinates=\"120.132007,30.300508,9.7\"\n",
    "print(\"coordinates.split(\\\",\\\")->{}\".format(coordinates.split(\",\")))#字符串分隔，以“，”为界限\n",
    "print(\"eval(coordinates)->{}\".format(eval(coordinates))) #通常用eval()方法将字符串，转换为对应数值形式；\n",
    "print(\"\\\"Hello Python!\\\".lower()->{}\".format(\"Hello Python!\".lower()))#大小写转换\n",
    "print(\"\\\"Hello Python!\\\".upper()->{}\".format(\"Hello Python!\".upper()))\n",
    "print(\"\\\"Hello Python!\\\"[6:]->{}\".format(\"Hello Python!\"[6:]))#只打印索引6到结尾的字符"
   ]
  },
  {
   "cell_type": "code",
   "execution_count": 4,
   "metadata": {},
   "outputs": [
    {
     "name": "stdout",
     "output_type": "stream",
     "text": [
      "3\n",
      "9\n",
      "3\n",
      "9\n"
     ]
    }
   ],
   "source": [
    "#常用操作\n",
    "#查询\n",
    "s='hello,hello'\n",
    "print(s.index('lo'))#第一次出现和最后一次出现位置（正向索引）\n",
    "print(s.rindex('lo'))#使用find不会报错\n",
    "print(s.find('lo'))\n",
    "print(s.rfind('lo'))"
   ]
  },
  {
   "cell_type": "code",
   "execution_count": 14,
   "metadata": {},
   "outputs": [
    {
     "name": "stdout",
     "output_type": "stream",
     "text": [
      "hello,python\n",
      "HELLO,PYTHON 2788517049200\n",
      "HELLO,PYTHON 2788517047216\n",
      "hello,python 2788517021552\n",
      "hello,python 2788517021040\n",
      "hello,python 2788517022256\n",
      "hello,python 2788517047216\n",
      "True\n",
      "False\n",
      "HELLO,pYTHON\n",
      "Hello,Python\n"
     ]
    }
   ],
   "source": [
    "#字符串大小写转换\n",
    "s='hello,python'\n",
    "print(s)\n",
    "a=s.upper()#转成大写后会产生一个新的字符串对象\n",
    "print(a,id(a))\n",
    "print(a,id(s))\n",
    "print(s.lower(),id(s.lower()))\n",
    "print(s,id(s.lower()))\n",
    "b=s.lower()#转换以后产生新对象\n",
    "print(b,id(b))\n",
    "print(s,id(s))\n",
    "print(b==s)\n",
    "print(b is s)#内容相等，地址不相等\n",
    "s2='hello,Python'\n",
    "print(s2.swapcase())#大小写互换\n",
    "print(s2.title())#每个单词开头字符大写"
   ]
  },
  {
   "cell_type": "code",
   "execution_count": 21,
   "metadata": {},
   "outputs": [
    {
     "name": "stdout",
     "output_type": "stream",
     "text": [
      "****hello,python****\n",
      "    hello,python    \n",
      "hello,python\n",
      "hello,python********\n",
      "********hello,python\n",
      "00000000hello,python\n"
     ]
    }
   ],
   "source": [
    "#字符串内容对齐操作方法\n",
    "s='hello,python'\n",
    "print(s.center(20,'*'))#居中对齐，字符串宽度以及填充字符\n",
    "print(s.center(20))#填充字符参数默认是空格\n",
    "print(s.center(8))#宽度小于原本时返回原字符串\n",
    "print(s.ljust(20,'*'))\n",
    "print(s.rjust(20,'*'))\n",
    "print(s.zfill(20))#右对齐，使用0进行填充"
   ]
  },
  {
   "cell_type": "code",
   "execution_count": 29,
   "metadata": {},
   "outputs": [
    {
     "name": "stdout",
     "output_type": "stream",
     "text": [
      "['hello', 'world', 'Python']\n",
      "['hello', 'w', 'o', 'r', 'l', 'd', 'Python']\n",
      "['hello', 'w', 'o/r/l/d/Python']\n",
      "['hello/w/o/r/l', 'd', 'Python']\n"
     ]
    }
   ],
   "source": [
    "#字符串劈分方法\n",
    "s='hello world Python'\n",
    "print(s.split())\n",
    "s1='hello/w/o/r/l/d/Python'\n",
    "print(s1.split(sep='/'))#指定以sep参数为界分隔\n",
    "print(s1.split(sep='/',maxsplit=2))#maxsplit指定split的最大间隔数\n",
    "print(s1.rsplit(sep='/',maxsplit=2))#rsplit从右侧开始\n",
    "#如果没有指定次数，左右split效果一样"
   ]
  },
  {
   "cell_type": "code",
   "execution_count": 43,
   "metadata": {},
   "outputs": [
    {
     "name": "stdout",
     "output_type": "stream",
     "text": [
      "1. False\n",
      "2. True\n",
      "3. True\n",
      "4. True\n",
      "5. False\n",
      "6. True\n",
      "7. True\n",
      "8. False\n",
      "9. True\n",
      "10. True\n"
     ]
    }
   ],
   "source": [
    "#字符串判断方法identify\n",
    "s='hello,python'\n",
    "print('1.',s.isidentifier())#isidentifier判断是否由合法标识符（字母、数字、下划线组成）\n",
    "print('2.','hello'.isidentifier())\n",
    "print('3.','你好python_'.isidentifier())\n",
    "print('4.','hello'.isalpha())#是否全部由字母组成\n",
    "print('5.','* - -'.isspace())#（回车、换行、水平制表符）\n",
    "print('6.','\\t'.isspace())\n",
    "print('7.','1234'.isdecimal())#十进制数字\n",
    "print('8.','123四'.isdecimal())\n",
    "print('9.','12345'.isnumeric())#数字\n",
    "print('10.','12345'.isalnum())#字母和数字\n",
    "print('11.','12345hhhhh'.isalnum())"
   ]
  },
  {
   "cell_type": "code",
   "execution_count": 49,
   "metadata": {},
   "outputs": [
    {
     "name": "stdout",
     "output_type": "stream",
     "text": [
      "hello,java\n",
      "hello,java,java,python\n",
      "hello/java/python\n",
      "hellojavapython\n",
      "hello java python\n",
      "hello/java/python\n",
      "p/y/t/h/o/n\n"
     ]
    }
   ],
   "source": [
    "#替换与合并\n",
    "s='hello,python'\n",
    "print(s.replace('python','java'))#用java替换python\n",
    "s='hello,python,python,python'\n",
    "print(s.replace('python','java',2))#替换2次\n",
    "lst=['hello','java','python']#将列表或元组中的字符串合并成一个字符串,list,tuple->string\n",
    "print('/'.join(lst))\n",
    "print(''.join(lst))\n",
    "print(' '.join(lst))\n",
    "t=('hello','java','python')\n",
    "print('/'.join(t))\n",
    "print('/'.join('python'))"
   ]
  },
  {
   "cell_type": "code",
   "execution_count": 51,
   "metadata": {},
   "outputs": [
    {
     "name": "stdout",
     "output_type": "stream",
     "text": [
      "\"    Hello Python!    \".strip()->Hello Python!\n",
      "\"Hello Python!\".replace(\"Python\",\"Grasshopper\")->Hello Grasshopper!\n",
      "hello_lst.sort()>[' ', '!', 'H', 'P', 'e', 'h', 'l', 'l', 'n', 'o', 'o', 't', 'y']\n",
      "\"Hello Python!\".find(\"Py\")->6\n"
     ]
    }
   ],
   "source": [
    "print(\"\\\"    Hello Python!    \\\".strip()->{}\".format(\"    Hello Python!    \".strip()))#字符串去空\n",
    "print(\"\\\"Hello Python!\\\".replace(\\\"Python\\\",\\\"Grasshopper\\\")->{}\".format(\"Hello Python!\".replace(\"Python\",\"Grasshopper\")))\n",
    "hello_lst=list(\"Hello Python!\")\n",
    "hello_lst.sort()\n",
    "print(\"hello_lst.sort()>{}\".format(hello_lst))\n",
    "print(\"\\\"Hello Python!\\\".find(\\\"Py\\\")->{}\".format(\"Hello Python!\".find(\"Py\")))"
   ]
  },
  {
   "cell_type": "code",
   "execution_count": 57,
   "metadata": {},
   "outputs": [
    {
     "name": "stdout",
     "output_type": "stream",
     "text": [
      "hello\n",
      "Python\n",
      "2788517022768\n",
      "2788517021296\n",
      "2788516639792\n",
      "2788452809456\n",
      "2788517020016\n"
     ]
    }
   ],
   "source": [
    "#切片操作（字符串是不可变类型：不具备增删操作，切片将产生新的对象）\n",
    "s='hello,Python'\n",
    "s1=s[:5]#由于没有起始位置所以从0开始切\n",
    "s2=s[6:]#由于没有指定结束位置，所以切到字符串最后一个元素\n",
    "s3='!'\n",
    "newstr=s1+s2+s3\n",
    "print(s1)\n",
    "print(s2)\n",
    "print(id(s))\n",
    "print(id(s1))\n",
    "print(id(s2))\n",
    "print(id(s3))\n",
    "print(id(newstr))\n",
    "#切片[start:end:step]"
   ]
  },
  {
   "cell_type": "code",
   "execution_count": 2,
   "metadata": {},
   "outputs": [
    {
     "name": "stdout",
     "output_type": "stream",
     "text": [
      "new_str=format_str % values->Hello,Python and Grasshopper!\n",
      "new_str_2=format_str_2 % (pi,3.1415926)->Pi with three decimals:3.142,and enter a value with percent sign:3.14 %\n",
      "  3.141593,      3.14,3.14,Hello,Hello,52,34,3.141593\n"
     ]
    }
   ],
   "source": [
    "#字符串格式化\n",
    "format_str=\"Hello,%s and %s!\"#%作占位符\n",
    "values=(\"Python\",\"Grasshopper\")\n",
    "new_str=format_str % values\n",
    "print(\"new_str=format_str % values->{}\".format(new_str))\n",
    "format_str_2=\"Pi with three decimals:%.3f,and enter a value with percent sign:%.2f %%\" #如果字符串里包含实际的%，则通过%%即两个百分号进行转义\n",
    "from math import pi\n",
    "new_str_2=format_str_2 % (pi,3.1415926)\n",
    "print(\"new_str_2=format_str_2 % (pi,3.1415926)->{}\".format(new_str_2))\n",
    "#除了转换说明符%外，可以增加转换标志\n",
    "#-表示左对齐，+表示在转换值之前要加上正负号，“”空白字符，表示正数之前保留空格，0表示转换值若位数不够则用0填充\n",
    "#如果格式化字符串中包含*，那么可以在值元组中设置宽度；(.)点号加数字表示小数点后的位数精度，如果转换的是字符串，那么该数字则表示最大字段宽度。\n",
    "format_str_3=\"%10f,%10.2f,%.2f,%.5s,%.*s,%d,%x,%f\"\n",
    "new_str_3=format_str_3%(pi,pi,pi,\"Hello Python!\",5,\"Hello Python!\",52,52,pi)\n",
    "print(\"{}\".format(new_str_3))"
   ]
  },
  {
   "cell_type": "code",
   "execution_count": 59,
   "metadata": {},
   "outputs": [
    {
     "name": "stdout",
     "output_type": "stream",
     "text": [
      "There apple and bananas\n",
      "There apple and banbanas\n",
      "There apple and banbanas\n"
     ]
    }
   ],
   "source": [
    "#Template()函数-模板字符串+$+st.substitute()\n",
    "#调用template函数固定字符串格式\n",
    "from string import Template\n",
    "s=Template(\"There $a and ${b}s\")\n",
    "print (s.substitute(a='apple',b='banana'))\n",
    "print (s.safe_substitute(a='apple',b='banbana'))\n",
    "#template 有个特殊的标识符，它的使用具有以下的规则：\n",
    "#它的主要实现方式为xxx,其中xxx是满足python命名规则的字符串，即不能以数字开头，不能为关键字等\n",
    "#aaaxxx需要和其他字符串接触时，可用将xxx包裹起来，例如，aaa{xxx}aaa\n",
    "#Template还可以通过字典来直接传递数据\n",
    "from string import Template\n",
    "s=Template(\"There $a and ${b}s\")\n",
    "d={'a':'apple','b':'banbana'}\n",
    "print(s.substitute(d))"
   ]
  },
  {
   "cell_type": "code",
   "execution_count": 58,
   "metadata": {},
   "outputs": [
    {
     "name": "stdout",
     "output_type": "stream",
     "text": [
      "There apple and ${b}s\n"
     ]
    }
   ],
   "source": [
    "#首先通过Template初始化一个字符串，这些字符串中包含了一个个key\n",
    "#通过调用substitute或safe_subsititute，将key值与方法中传递过来的参数对应上，从而实现在指定的位置导入字符串\n",
    "#好处是不用像print ‘%s’之类的方式，各个参数的顺序必须固定，只要key是正确的，值就能正确插入。\n",
    "from string import Template\n",
    "s=Template(\"There $a and ${b}s\")\n",
    "d={'a':'apple'}\n",
    "#print(s.substitute(d))\n",
    "print(s.safe_substitute(d))"
   ]
  },
  {
   "cell_type": "code",
   "execution_count": 60,
   "metadata": {},
   "outputs": [
    {
     "name": "stdout",
     "output_type": "stream",
     "text": [
      "s_1=s_template_1.substitute(x=\"Python\")->Python,glorious,Python!\n",
      "s_2=s_template_2.substitute(x=\"py\")->python is amazing!\n",
      "substitute_dict={'x': 'Python', 'y': 'Grasshopper'}\n",
      "s_3=s_template_3.substitute(substitute_dict)->Python and Grasshopper are both amazing!\n"
     ]
    }
   ],
   "source": [
    "from string import Template\n",
    "s_template_1=Template(\"$x,glorious,$x!\")\n",
    "s_1=s_template_1.substitute(x=\"Python\")\n",
    "print(\"s_1=s_template_1.substitute(x=\\\"Python\\\")->{}\".format(s_1))\n",
    "s_template_2=Template(\"${x}thon is amazing!\")\n",
    "s_2=s_template_2.substitute(x=\"py\")\n",
    "print(\"s_2=s_template_2.substitute(x=\\\"py\\\")->{}\".format(s_2))\n",
    "s_template_3=Template(\"$x and $y are both amazing!\")\n",
    "substitute_dict=dict([('x','Python'),('y','Grasshopper')])\n",
    "print(\"substitute_dict={}\".format(substitute_dict))\n",
    "s_3=s_template_3.substitute(substitute_dict)\n",
    "print(\"s_3=s_template_3.substitute(substitute_dict)->{}\".format(s_3))"
   ]
  },
  {
   "cell_type": "code",
   "execution_count": 106,
   "metadata": {},
   "outputs": [
    {
     "name": "stdout",
     "output_type": "stream",
     "text": [
      "lst_1=[29, 31, 33, 35]\n",
      "__________________________________________________\n",
      "for i in lst_1:\n",
      "29\n",
      "31\n",
      "33\n",
      "35\n",
      "for i in range(len(lst_1)):\n",
      "idx=0,val=29\n",
      "idx=1,val=31\n",
      "idx=2,val=33\n",
      "idx=3,val=35\n",
      "++++++++++++++++++++++++++++++++++++++++++++++++++\n",
      "dic_4={'a': 2, 'b': 3, 'c': 6, 'd': 0}\n",
      "__________________________________________________\n",
      "for k in dic_4:\n",
      "a\n",
      "b\n",
      "c\n",
      "d\n",
      "for k,v in dic_4.items():\n",
      "key=a,val=2\n",
      "key=b,val=3\n",
      "key=c,val=6\n",
      "key=d,val=0\n"
     ]
    }
   ],
   "source": [
    "#循环语句\n",
    "#选择结构的if与循环结构while的区别：if是判断一次，条件为True执行一行；while是判断N+1次，条件为True执行N次\n",
    "#for循环 for-in\n",
    "#in表达从（字符串、序列等）中一次取值，又称为遍历\n",
    "#for-in遍历的对象必须是可迭代对象\n",
    "lst_1=list(range(29,37,2))\n",
    "print(\"lst_1={}\".format(lst_1))\n",
    "print(\"_\"*50)\n",
    "print(\"for i in lst_1:\")\n",
    "for i in lst_1:\n",
    "    print(i)\n",
    "print(\"for i in range(len(lst_1)):\")\n",
    "for i in range(len(lst_1)):\n",
    "    print(\"idx={},val={}\".format(i,lst_1[i]))\n",
    "print(\"+\"*50)   \n",
    "dic_4=dict(a=2,b=3,c=6,d=0)\n",
    "print(\"dic_4={}\".format(dic_4))\n",
    "print(\"_\"*50)\n",
    "print(\"for k in dic_4:\")\n",
    "for k in dic_4:\n",
    "    print(k)\n",
    "print(\"for k,v in dic_4.items():\")\n",
    "for k,v in dic_4.items():\n",
    "    print(\"key={},val={}\".format(k,v))"
   ]
  },
  {
   "cell_type": "code",
   "execution_count": 109,
   "metadata": {},
   "outputs": [
    {
     "name": "stdout",
     "output_type": "stream",
     "text": [
      "x=1\n",
      "x=11\n",
      "x=21\n",
      "x=31\n",
      "x=41\n",
      "x=51\n",
      "x=61\n",
      "x=71\n",
      "x=81\n",
      "x=91\n"
     ]
    }
   ],
   "source": [
    "#while循环\n",
    "#while条件表达式：\n",
    "    #条件执行体（循环体）\n",
    "x=1\n",
    "while x<=100:\n",
    "    print(\"x={}\".format(x))\n",
    "    x+=10 #增量赋值; x*=2     "
   ]
  },
  {
   "cell_type": "code",
   "execution_count": 108,
   "metadata": {},
   "outputs": [
    {
     "name": "stdout",
     "output_type": "stream",
     "text": [
      "1\n",
      "2\n",
      "3\n",
      "4\n",
      "5\n",
      "6\n",
      "7\n",
      "8\n",
      "9\n"
     ]
    }
   ],
   "source": [
    "a=1\n",
    "#判断条件表达式\n",
    "while a<10:\n",
    "    #执行条件执行体\n",
    "    print(a)\n",
    "    a+=1"
   ]
  },
  {
   "cell_type": "code",
   "execution_count": 61,
   "metadata": {},
   "outputs": [
    {
     "name": "stdout",
     "output_type": "stream",
     "text": [
      "x=1\n",
      "x=11\n",
      "x=21\n",
      "x=31\n",
      "x=41\n",
      "sys.maxsize=9223372036854775807\n",
      "i=0\n",
      "i=1\n",
      "i=2\n",
      "i=3\n",
      "i=4\n",
      "i=5\n",
      "i=6\n",
      "i=7\n",
      "i=8\n",
      "i=9\n",
      "i=10\n",
      "i=11\n",
      "i=12\n",
      "i=13\n",
      "i=14\n",
      "i=15\n",
      "i=16\n",
      "i=17\n",
      "i=18\n",
      "i=19\n",
      "i=20\n"
     ]
    }
   ],
   "source": [
    "x=1\n",
    "while x<=100:\n",
    "    print(\"x={}\".format(x))\n",
    "    x+=10 \n",
    "    if x>=50:break    \n",
    "    \n",
    "import sys\n",
    "print(\"sys.maxsize={}\".format(sys.maxsize))\n",
    "for i in range(sys.maxsize):\n",
    "    print(\"i={}\".format(i))  #?\n",
    "    i+=10\n",
    "    if i>=30:break\n",
    "#初始化变量，条件判断，条件执行体（循环体），改变变量\n",
    "#初始化的变量与条件判断的变量与改变的变量为同一个"
   ]
  },
  {
   "cell_type": "code",
   "execution_count": 64,
   "metadata": {},
   "outputs": [],
   "source": [
    "#While True/break语句\n",
    "#在处理GIS时，更多的是使用GeoPandas等处理地理信息的库;另，大数据的存储读取通常用Numpy,(Geo)Pandas提供的方法，以及HDF5(binary data format)。"
   ]
  },
  {
   "cell_type": "code",
   "execution_count": 65,
   "metadata": {},
   "outputs": [
    {
     "name": "stdout",
     "output_type": "stream",
     "text": [
      "zip_lst=zip(lst_a,lst_b)-><zip object at 0x00000289429E6EC0>\n",
      "dict(zip_lst)->{0: 'point_a', 1: 'point_b', 2: 'point_c', 3: 'point_d'}\n",
      "0 point_a\n",
      "1 point_b\n",
      "2 point_c\n",
      "3 point_d\n",
      "a=(0, 1, 2, 3),b=('point_a', 'point_b', 'point_c', 'point_d')\n"
     ]
    }
   ],
   "source": [
    "#并行迭代\n",
    "#有时候，一个程序中需要同时在一个for循环中迭代两个以上的集合\n",
    "#其中一种方法就是循环其中一个集合的索引，然后根据索引对所有集合进行循环\n",
    "lst_a=[0,1,2,3]\n",
    "lst_b=['point_a','point_b','point_c','point_d']\n",
    "zip_lst=zip(lst_a,lst_b) #The zip() function takes iterables (can be zero or more), aggregates them in a tuple, and returns it.\n",
    "print(\"zip_lst=zip(lst_a,lst_b)->{}\".format(zip_lst))\n",
    "print(\"dict(zip_lst)->{}\".format(dict(zip_lst)))\n",
    "\n",
    "zip_lst=zip(lst_a,lst_b) #迭代对象临时存储，读取完后为空\n",
    "for a,b in zip_lst:\n",
    "    print(a,b)\n",
    "    \n",
    "zip_lst=zip(lst_a,lst_b)\n",
    "a,b=zip(*zip_lst)\n",
    "print(\"a={},b={}\".format(a,b))"
   ]
  },
  {
   "cell_type": "code",
   "execution_count": 111,
   "metadata": {},
   "outputs": [
    {
     "name": "stdout",
     "output_type": "stream",
     "text": [
      "cora 12\n",
      "lora 14\n",
      "python 17\n"
     ]
    }
   ],
   "source": [
    "#通过 zip()函数对多个序列进行并行迭代，zip()函数在最短序列用完时就会停止\n",
    "#zip用法\n",
    "name = ('cora','lora','python')\n",
    "age = (12,14,17,20)\n",
    "for x,y  in zip(name,age):\n",
    "    print(x,y)"
   ]
  },
  {
   "cell_type": "code",
   "execution_count": 112,
   "metadata": {},
   "outputs": [
    {
     "name": "stdout",
     "output_type": "stream",
     "text": [
      "dic_4={0: 'point_a', 1: 'point_b', 2: 'point_c', 3: 'point_d'}\n",
      "dict((i,v) for i,v in enumerate(lst_c))->{0: 'point_a', 1: 'point_b', 2: 'point_c', 3: 'point_d'}\n",
      "__________________________________________________\n",
      "0:0,point_a\n",
      "1:1,point_b\n",
      "2:2,point_c\n",
      "3:3,point_d\n"
     ]
    }
   ],
   "source": [
    "#编号迭代\n",
    "#要迭代序列中的对象，同时还想要获取当前对象的索引\n",
    "lst_c=['point_a','point_b','point_c','point_d']\n",
    "dic_4={}\n",
    "for idx,value in enumerate(lst_c):\n",
    "    dic_4[idx]=value\n",
    "print(\"dic_4={}\".format(dic_4))\n",
    "print(\"dict((i,v) for i,v in enumerate(lst_c))->{}\".format(dict((i,v) for i,v in enumerate(lst_c)))) #list comprehension\n",
    "print(\"_\"*50)\n",
    "for i,(a,b) in enumerate(zip(lst_a,lst_b)):\n",
    "    print('%d:%s,%s'%(i,a,b))"
   ]
  },
  {
   "cell_type": "code",
   "execution_count": 66,
   "metadata": {},
   "outputs": [
    {
     "name": "stdout",
     "output_type": "stream",
     "text": [
      "[x*x for x in range(3,37,5) if x%2==0]->[64, 324, 784]\n",
      "[(x,y) for x in range(3)for y in range(2)]->[(0, 0), (0, 1), (1, 0), (1, 1), (2, 0), (2, 1)]\n",
      "[(x,y) for x,y in zip(range(3),range(2))]->[(0, 0), (1, 1)]\n",
      "[[a for a in range(1,10,3)],2,3,[b for b in range(60,100,7)],[[c for c in range(1000,2000,120)],3,9]]->[[1, 4, 7], 2, 3, [60, 67, 74, 81, 88, 95], [[1000, 1120, 1240, 1360, 1480, 1600, 1720, 1840, 1960], 3, 9]]\n",
      "flatten_lst(nested_list)->[1, 4, 7, 2, 3, 60, 67, 74, 81, 88, 95, 1000, 1120, 1240, 1360, 1480, 1600, 1720, 1840, 1960, 3, 9]\n"
     ]
    }
   ],
   "source": [
    "#列表推导式\n",
    "#表达式 for 变量 in 序列或迭代对象\n",
    "#列表推导式在逻辑上相当于一个循环，只是形似更加简洁\n",
    "print(\"[x*x for x in range(3,37,5) if x%2==0]->{}\".format([x*x for x in range(3,37,5) if x%2==0]))\n",
    "print(\"[(x,y) for x in range(3)for y in range(2)]->{}\".format([(x,y) for x in range(3)for y in range(2)]))\n",
    "print(\"[(x,y) for x,y in zip(range(3),range(2))]->{}\".format([(x,y) for x,y in zip(range(3),range(2))]))\n",
    "nested_list=[[a for a in range(1,10,3)],2,3,[b for b in range(60,100,7)],[[c for c in range(1000,2000,120)],3,9]]\n",
    "print(\"[[a for a in range(1,10,3)],2,3,[b for b in range(60,100,7)],[[c for c in range(1000,2000,120)],3,9]]->{}\".format(nested_list)) #嵌套列表推导式\n",
    "\n",
    "flatten_lst=lambda lst: [m for n_lst in lst for m in flatten_lst(n_lst)] if type(lst) is list else [lst] #展平列表常用，可以放置到单独的.py文件中调用。lambda函数后文阐述\n",
    "print(\"flatten_lst(nested_list)->{}\".format(flatten_lst(nested_list)))"
   ]
  },
  {
   "cell_type": "code",
   "execution_count": 117,
   "metadata": {},
   "outputs": [
    {
     "name": "stdout",
     "output_type": "stream",
     "text": [
      "[0, 1, 4, 9, 16, 25, 36, 49, 64, 81]\n"
     ]
    }
   ],
   "source": [
    "#列表推导式提供了一种创建list的简便方法\n",
    "#应用程序创建列表时，列表中的元素来源于其他序列、可迭代对象或创建的一个满足一定条件的序列\n",
    "#假设要创建一个平方数组成的列表\n",
    "squares = []\n",
    "for x in range(10):\n",
    "    squares.append(x**2)\n",
    "print(squares)\n",
    "#也可以通过下面的方式获得相同的列表：\n",
    "squares = [x**2 for x in range(10)]\n",
    "#等价于下面的方式，但列表推导式的方式更简单\n",
    "squar = map(lambda x:x**2,range(10))"
   ]
  },
  {
   "cell_type": "code",
   "execution_count": 68,
   "metadata": {},
   "outputs": [
    {
     "name": "stdout",
     "output_type": "stream",
     "text": [
      "Positive and larger than or equal to 10.\n"
     ]
    }
   ],
   "source": [
    "#条件语句模式：\n",
    "#if expression:\n",
    "    #statements\n",
    "#elif expression:\n",
    "    #statements\n",
    "#elif expression:\n",
    "    #pass\n",
    "#...\n",
    "#else:\n",
    "    #statements\n",
    "x=10\n",
    "if x<0:\n",
    "    print('It is negative.')\n",
    "elif x==0:\n",
    "    print('Equal to zero.')\n",
    "elif 0<x<10:\n",
    "    print('Positive but smaller than 10')\n",
    "else:\n",
    "    print('Positive and larger than or equal to 10.')\n"
   ]
  },
  {
   "cell_type": "code",
   "execution_count": 70,
   "metadata": {},
   "outputs": [
    {
     "name": "stdout",
     "output_type": "stream",
     "text": [
      "x==y->True\n",
      "x is y->True\n",
      "x==z->True\n",
      "x is z->False\n",
      "x is not y->False\n",
      "x is not z->True\n",
      "id_x:2788551490752;id_y:2788551490752;id_z:2788551457792\n",
      "x=[3, 6],y=[3, 6],z=[3, 6, 9] after del x[2]\n"
     ]
    }
   ],
   "source": [
    "x=y=[3,6,9]\n",
    "z=[3,6,9]\n",
    "print(\"x==y->{}\".format(x==y))\n",
    "print(\"x is y->{}\".format(x is y))\n",
    "print(\"x==z->{}\".format(x==z))\n",
    "print(\"x is z->{}\".format(x is z))\n",
    "print(\"x is not y->{}\".format(x is not y))\n",
    "print(\"x is not z->{}\".format(x is not z))\n",
    "print(\"id_x:{};id_y:{};id_z:{}\".format(id(x),id(y),id(z))) #Memory Location\n",
    "\n",
    "del x[2]\n",
    "print(\"x={},y={},z={} after del x[2]\".format(x,y,z))"
   ]
  },
  {
   "cell_type": "code",
   "execution_count": 123,
   "metadata": {},
   "outputs": [
    {
     "name": "stdout",
     "output_type": "stream",
     "text": [
      "a>b嘛 False\n",
      "True\n",
      "True\n"
     ]
    }
   ],
   "source": [
    "#比较运算符\n",
    "#对变量或表达式结果真假的比较\n",
    "#比较运算符的结果是布尔类型\n",
    "a,b=10,20\n",
    "print('a>b?',a>b)#结果为FALSE\n",
    "#\"\"\"一个=表示赋值运算符  ==表示比较运算符\n",
    "#一个变量由三个部分组成 标识，类型，值\n",
    "#== 比较的是值，比较对象使用is\n",
    "a=20\n",
    "b=20\n",
    "print(a==b) #结果为TRUE，表示他们两的值相等\n",
    "print(a is b) #结果为TRUE，表示a和b的ID相等"
   ]
  },
  {
   "cell_type": "code",
   "execution_count": 118,
   "metadata": {},
   "outputs": [
    {
     "name": "stdout",
     "output_type": "stream",
     "text": [
      "3 in x->True\n",
      "0 in x->False\n",
      "3 not in x->False\n",
      "0 not in x->True\n"
     ]
    }
   ],
   "source": [
    "#成员资格运算符，in与not in\n",
    "#用于检查一个值是否在序列中，如果在序列中返回 True，否则返回 False\n",
    "x=[3,6,9]\n",
    "print(\"3 in x->{}\".format(3 in x))\n",
    "print(\"0 in x->{}\".format(0 in x))\n",
    "print(\"3 not in x->{}\".format(3 not in x))\n",
    "print(\"0 not in x->{}\".format(0 not in x))"
   ]
  },
  {
   "cell_type": "code",
   "execution_count": 120,
   "metadata": {},
   "outputs": [
    {
     "name": "stdout",
     "output_type": "stream",
     "text": [
      "-----in 和not in-------\n",
      "True\n",
      "False\n",
      "a<c<b kidding!!!\n"
     ]
    }
   ],
   "source": [
    "#布尔运算符\n",
    "#and or not  in/not in\n",
    "print('-----in 和not in-------')\n",
    "s='helloworld'\n",
    "print('w'in s)\n",
    "print('w' not in s)\n",
    "a,b,c=0,10,15\n",
    "if c>a and c<b:\n",
    "    print('a<c<b')\n",
    "else: print('a<c<b kidding!!!')"
   ]
  },
  {
   "cell_type": "code",
   "execution_count": 122,
   "metadata": {},
   "outputs": [
    {
     "name": "stdout",
     "output_type": "stream",
     "text": [
      "False\n",
      "False\n",
      "False\n",
      "False\n",
      "False\n",
      "False\n",
      "False\n",
      "False\n",
      "False\n",
      "False\n",
      "False\n",
      "False\n",
      "False\n"
     ]
    }
   ],
   "source": [
    "#对象的布尔值\n",
    "#python一切皆对象，所有的对象都有一个布尔值\n",
    "#获取对象的布尔值，使用内置函数bool\n",
    "#以下对象的布尔值为false，false，数值0，none，空字符串，空列表，空元组，空集合，空字典\n",
    "print(bool(False))\n",
    "print(bool(0))\n",
    "print(bool(0.0))\n",
    "print(bool(None))\n",
    "print(bool(''))\n",
    "print(bool(\"\"))\n",
    "print(bool([]))#空列表\n",
    "print(bool(list()))#空列表\n",
    "print(bool(()))#空元组\n",
    "print(bool(tuple()))#空元组\n",
    "print(bool({}))#空字典\n",
    "print(bool(dict()))#空字典\n",
    "print(bool(set()))#空集合"
   ]
  },
  {
   "cell_type": "code",
   "execution_count": 73,
   "metadata": {},
   "outputs": [
    {
     "name": "stdout",
     "output_type": "stream",
     "text": [
      "simple_func(3,7)->16\n",
      "simple_func(7,3)->52\n",
      "simple_func(y=7,x=3)->16\n"
     ]
    }
   ],
   "source": [
    "#定义函数\n",
    "#def function(arguments):\n",
    "    #statement\n",
    "    #...\n",
    "    #return values\n",
    "def simple_func(x,y):\n",
    "    z=pow(x,2)+y\n",
    "    return z\n",
    "print(\"simple_func(3,7)->{}\".format(simple_func(3,7)))\n",
    "print(\"simple_func(7,3)->{}\".format(simple_func(7,3)))\n",
    "print(\"simple_func(y=7,x=3)->{}\".format(simple_func(y=7,x=3)))"
   ]
  },
  {
   "cell_type": "code",
   "execution_count": 74,
   "metadata": {},
   "outputs": [
    {
     "name": "stdout",
     "output_type": "stream",
     "text": [
      "fibonacci(6,9)->[5, 8, 13, 21, 34, 55, 89, 144, 233]\n",
      "fibonacci(7,9)->[8, 13, 21, 34, 55, 89, 144, 233, 377]\n"
     ]
    }
   ],
   "source": [
    "def fibonacci(s,count): #定义fib函数的方法较笨\n",
    "    fib_lst=[0,1]\n",
    "    fib_part=[]\n",
    "    if s==0 or s==1:\n",
    "        fib_part[:]=fib_lst\n",
    "        for i in range(count-2):\n",
    "            fib_part.append(fib_part[-1]+fib_part[-2])\n",
    "    else:\n",
    "        while True:\n",
    "            fib_lst[:]=[fib_lst[1],fib_lst[0]+fib_lst[1]]\n",
    "            #print(fib_lst)\n",
    "            if fib_lst[1]-s>=0:break\n",
    "        fib_part[:]=fib_lst\n",
    "        if abs(fib_lst[0]-s)>=abs(fib_lst[1]-s):\n",
    "            for i in range(count-1):\n",
    "                fib_part.append(fib_part[-1]+fib_part[-2])\n",
    "            fib_part.pop(0)\n",
    "        else:\n",
    "            for i in range(count-2):\n",
    "                fib_part.append(fib_part[-1]+fib_part[-2])\n",
    "    return fib_part\n",
    "\n",
    "print(\"fibonacci(6,9)->{}\".format(fibonacci(6,9)))\n",
    "print(\"fibonacci(7,9)->{}\".format(fibonacci(7,9)))"
   ]
  },
  {
   "cell_type": "code",
   "execution_count": 76,
   "metadata": {},
   "outputs": [
    {
     "name": "stdout",
     "output_type": "stream",
     "text": [
      "5040\n"
     ]
    }
   ],
   "source": [
    "#递归：递归recursion\n",
    "#在函数内部，可以调用其他函数，如果一个函数在内部调用自身本身，这个函数就是递归函数\n",
    "#在数学与计算机科学中，是指在函数的定义中使用函数自身的方法。一般来讲递归包含两个部分：\n",
    "#当函数直接返回值时有基本实例（最小可能性问题）；\n",
    "#递归实例，包括一个或者多个问题最小部分的递归调用\n",
    "def factorial(n):\n",
    "    if n==1:\n",
    "        return 1\n",
    "    else:\n",
    "        return n*factorial(n-1)\n",
    "print(factorial(7))"
   ]
  },
  {
   "cell_type": "code",
   "execution_count": 132,
   "metadata": {},
   "outputs": [],
   "source": [
    "#The binary search function\n",
    " \n",
    "def  Binary_Search(data_source,find_n):\n",
    "    #判断列表长度是否大于1，小于1就是一个值\n",
    "    if len(data_source) >= 1: \n",
    "        #获取列表中间索引；奇数长度列表长度除以2会得到小数，通过int将转换整型     \n",
    "        mid = int(len(data_source)/2) \n",
    "        #判断查找值是否超出最大值   \n",
    "        if find_n > data_source[-1]:                                    \n",
    "            print('{}查找值不存在！'.format(find_n))\n",
    "            exit()\n",
    "        #判断查找值是否超出最小值\n",
    "        elif find_n < data_source[0]:                                   \n",
    "            print('{}查找值不存在！'.format(find_n))\n",
    "            exit()\n",
    "        #判断列表中间值是否大于查找值\n",
    "        if data_source[mid]  > find_n:                                  \n",
    "            print('查找值在 {} 左边'.format(data_source[mid]))\n",
    "            #调用自己，并将中间值左边所有元素做参数\n",
    "            Binary_Search(data_source[:mid],find_n)  \n",
    "        #判断列表中间值是否小于查找值                   \n",
    "        elif data_source[mid] < find_n:                                 \n",
    "            #print('查找值在 {} 右边'.format(data_source[mid]))     \n",
    "            #调用自己，并将中间值右边所有元素做参数      \n",
    "            Binary_Search(data_source[mid:],find_n)\n",
    "        else:\n",
    "            #找到查找值\n",
    "            print('找到查找值',data_source[mid])                          \n",
    "    else:\n",
    "        #特殊情况，返回查找不到\n",
    "        print('{}查找值不存在！'.format(find_n)) "
   ]
  },
  {
   "cell_type": "code",
   "execution_count": 77,
   "metadata": {},
   "outputs": [
    {
     "name": "stdout",
     "output_type": "stream",
     "text": [
      "swift.fly->Whirring\n",
      "swift.eat()->\n",
      "Aaaah...\n",
      "swift.eat()->\n",
      "No.Thanks!\n",
      "swift.sing()->\n",
      "Squawk!\n"
     ]
    }
   ],
   "source": [
    "#类class\n",
    "class Bird:\n",
    "    fly='Whirring' #美 /wɜːr/ \n",
    "    def __init__(self):\n",
    "        self.hungry=True\n",
    "    def eat(self):\n",
    "        if self.hungry:\n",
    "            print('Aaaah...')\n",
    "            self.hungry=False\n",
    "        else:\n",
    "            print('No.Thanks!')\n",
    "\n",
    "class Apodidae(Bird):  #/'æpədədi:/\n",
    "    def __init__(self):\n",
    "        super(Apodidae,self).__init__()\n",
    "        self.sound='Squawk!' #美 /skwɔːk/ \n",
    "    def sing(self):\n",
    "        print(self.sound)\n",
    "swift=Apodidae()\n",
    "print(\"swift.fly->{}\".format(swift.fly))\n",
    "print(\"swift.eat()->\")\n",
    "swift.eat()\n",
    "print(\"swift.eat()->\")\n",
    "swift.eat()\n",
    "print(\"swift.sing()->\")\n",
    "swift.sing()"
   ]
  },
  {
   "cell_type": "code",
   "execution_count": 79,
   "metadata": {},
   "outputs": [
    {
     "name": "stdout",
     "output_type": "stream",
     "text": [
      "blackswift.sing()->\n",
      "Squawk!\n",
      "scarceswift.sing()->\n",
      "Squawk!\n",
      "blackswift.fly->Whirring\n",
      "blackswift.fly after redefining the blackswif's attribute->humming\n",
      "scarceswift.fly->Whirring\n"
     ]
    }
   ],
   "source": [
    "#类与类的实例\n",
    "blackswift=Apodidae()\n",
    "scarceswift=Apodidae()\n",
    "print(\"blackswift.sing()->\")\n",
    "blackswift.sing()\n",
    "print(\"scarceswift.sing()->\")\n",
    "scarceswift.sing()\n",
    "#类的属性\n",
    "print(\"blackswift.fly->{}\".format(blackswift.fly))\n",
    "blackswift.fly='humming' #重新赋予实例的属性\n",
    "print(\"blackswift.fly after redefining the blackswif's attribute->{}\".format(blackswift.fly))\n",
    "print(\"scarceswift.fly->{}\".format(scarceswift.fly))"
   ]
  },
  {
   "cell_type": "code",
   "execution_count": 82,
   "metadata": {},
   "outputs": [
    {
     "name": "stdout",
     "output_type": "stream",
     "text": [
      "Squawk!\n",
      "Help on class Bird in module __main__:\n",
      "\n",
      "class Bird(builtins.object)\n",
      " |  Methods defined here:\n",
      " |  \n",
      " |  __init__(self)\n",
      " |      Initialize self.  See help(type(self)) for accurate signature.\n",
      " |  \n",
      " |  eat(self)\n",
      " |  \n",
      " |  ----------------------------------------------------------------------\n",
      " |  Data descriptors defined here:\n",
      " |  \n",
      " |  __dict__\n",
      " |      dictionary for instance variables (if defined)\n",
      " |  \n",
      " |  __weakref__\n",
      " |      list of weak references to the object (if defined)\n",
      " |  \n",
      " |  ----------------------------------------------------------------------\n",
      " |  Data and other attributes defined here:\n",
      " |  \n",
      " |  fly = 'Whirring'\n",
      "\n",
      "Help on class Apodidae in module __main__:\n",
      "\n",
      "class Apodidae(Bird)\n",
      " |  Method resolution order:\n",
      " |      Apodidae\n",
      " |      Bird\n",
      " |      builtins.object\n",
      " |  \n",
      " |  Methods defined here:\n",
      " |  \n",
      " |  __init__(self)\n",
      " |      Initialize self.  See help(type(self)) for accurate signature.\n",
      " |  \n",
      " |  sing(self)\n",
      " |  \n",
      " |  ----------------------------------------------------------------------\n",
      " |  Methods inherited from Bird:\n",
      " |  \n",
      " |  eat(self)\n",
      " |  \n",
      " |  ----------------------------------------------------------------------\n",
      " |  Data descriptors inherited from Bird:\n",
      " |  \n",
      " |  __dict__\n",
      " |      dictionary for instance variables (if defined)\n",
      " |  \n",
      " |  __weakref__\n",
      " |      list of weak references to the object (if defined)\n",
      " |  \n",
      " |  ----------------------------------------------------------------------\n",
      " |  Data and other attributes inherited from Bird:\n",
      " |  \n",
      " |  fly = 'Whirring'\n",
      "\n"
     ]
    }
   ],
   "source": [
    "#类的方法object.method()\n",
    "blackswift.sing()\n",
    "#超类+子类\n",
    "help(Bird)\n",
    "help(Apodidae)"
   ]
  },
  {
   "cell_type": "code",
   "execution_count": 88,
   "metadata": {},
   "outputs": [
    {
     "name": "stdout",
     "output_type": "stream",
     "text": [
      "fa=[1, 1, 2, 3, 5, 8, 13, 21, 34]\n",
      "fb=[55, 89, 144, 233, 377]\n"
     ]
    }
   ],
   "source": [
    "#迭代+迭代器：迭代方法往往在机器/深度学习中用于读取数据\n",
    "class Fibs():\n",
    "    def __init__(self):\n",
    "        self.a=0\n",
    "        self.b=1\n",
    "    def next(self):  #实现迭代器的next方法\n",
    "        self.a,self.b=self.b,self.a+self.b\n",
    "        return self.a\n",
    "    def __iter__(self): #实现迭代方法\n",
    "        return self\n",
    "f=Fibs()\n",
    "fa=[]\n",
    "fb=[]\n",
    "for i in range(9):\n",
    "    fa.append(f.next())\n",
    "print(\"fa={}\".format(fa))\n",
    "for i in range(5):\n",
    "    fb.append(f.next())\n",
    "print(\"fb={}\".format(fb))"
   ]
  },
  {
   "cell_type": "code",
   "execution_count": 90,
   "metadata": {},
   "outputs": [
    {
     "name": "stdout",
     "output_type": "stream",
     "text": [
      "lst_e=[[3, 6, 9, 12, 15, 18], [3, 7, 67, [0, 1, 2, 3, 4], 89]]\n",
      "__________________________________________________\n",
      "flatten_lst=[3, 6, 9, 12, 15, 18, 3, 7, 67, 0, 1, 2, 3, 4, 89]\n"
     ]
    }
   ],
   "source": [
    "#生成器\n",
    "#为什么要有生成器？当数据特别大的时候建立一个列表的储存数据很占内存。生成器不怎么占计算机资源。\n",
    "#一般方法\n",
    "lst_e=[list(range(3,20,3)),[3,7,67,list(range(5)),89]]\n",
    "print(\"lst_e={}\".format(lst_e))\n",
    "print(\"_\"*50)\n",
    "flatten_lst=[]\n",
    "for v_1 in lst_e:\n",
    "    try:\n",
    "        for v_2 in v_1:\n",
    "            try:\n",
    "                for v_3 in v_2:\n",
    "                    flatten_lst.append(v_3)\n",
    "            except TypeError:\n",
    "                flatten_lst.append(v_2)\n",
    "    except TypeError:\n",
    "        flatten_lst.append(v_1)\n",
    "print(\"flatten_lst={}\".format(flatten_lst))\n",
    "#迭代器本身就是一种生成器"
   ]
  },
  {
   "cell_type": "code",
   "execution_count": 91,
   "metadata": {},
   "outputs": [
    {
     "name": "stdout",
     "output_type": "stream",
     "text": [
      "list(flatten(lst_e))->[3, 6, 9, 12, 15, 18, 3, 7, 67, 0, 1, 2, 3, 4, 89]\n"
     ]
    }
   ],
   "source": [
    "#生成器方法：\n",
    "#使用for循环展平列表，语句表达繁琐，如果存在更多的嵌套或者不可知层次的嵌套列表，需要求助于生成器，一种普遍的函数语法定义的迭代器。\n",
    "def flatten(lst): #定义生成器（包含yield语句的函数）\n",
    "    try: #使用语句try\\except捕捉异常        \n",
    "        for n_lst in lst:  #循环列表            \n",
    "            for m in flatten(n_lst): #使用递归的方法循环子列表                \n",
    "                yield m  #使用yield语句，每次产生多个值，当返回一个值时函数就会被冻结，当再次激活时，从停止的那点开始执行\n",
    "    except TypeError:  #当函数被告知展开一个元素时，引发TypeError异常，生成器返回一个值\n",
    "        yield lst #生成器返回引发异常的一个值        \n",
    "print(\"list(flatten(lst_e))->{}\".format(list(flatten(lst_e))))\n",
    "flatten_lst=lambda lst:[m for n_lst in lst for m in flatten_lst(n_lst)] if type(lst) is list else [lst] #lambda 生成器方法"
   ]
  },
  {
   "cell_type": "code",
   "execution_count": 92,
   "metadata": {},
   "outputs": [
    {
     "name": "stdout",
     "output_type": "stream",
     "text": [
      "next(n)->num#0\n",
      "next(n)->num#1\n",
      "next(n)->num#2\n",
      "[next(n) for i in range(5)]->['num#3', 'num#4', 'num#5', 'num#6', 'num#7']\n"
     ]
    }
   ],
   "source": [
    "#建立无穷列表\n",
    "def infinite():\n",
    "    n=0\n",
    "    while True:\n",
    "        yield 'num#'+str(n)\n",
    "        n+=1\n",
    "n=infinite()\n",
    "print(\"next(n)->{}\".format(next(n)))\n",
    "print(\"next(n)->{}\".format(next(n)))\n",
    "print(\"next(n)->{}\".format(next(n)))\n",
    "print(\"[next(n) for i in range(5)]->{}\".format([next(n) for i in range(5)]))"
   ]
  },
  {
   "cell_type": "code",
   "execution_count": 93,
   "metadata": {},
   "outputs": [
    {
     "name": "stdout",
     "output_type": "stream",
     "text": [
      "[[(2*pi*(2*(u/(n-1))-1),2*pi*(2*(v/(n-1))-1)) for u in range(n)] for v in range(n)]->[[(-6.283185307179586, -6.283185307179586), (0.0, -6.283185307179586), (6.283185307179586, -6.283185307179586)], [(-6.283185307179586, 0.0), (0.0, 0.0), (6.283185307179586, 0.0)], [(-6.283185307179586, 6.283185307179586), (0.0, 6.283185307179586), (6.283185307179586, 6.283185307179586)]]\n",
      "__________________________________________________\n",
      "([(2*pi*(2*(u/(n-1))-1),2*pi*(2*(v/(n-1))-1)) for u in range(n)] for v in range(n))-><generator object <genexpr> at 0x0000028942A07D60>\n",
      "next(gen)->[(-6.283185307179586, -6.283185307179586), (0.0, -6.283185307179586), (6.283185307179586, -6.283185307179586)]\n",
      "next(gen)->[(-6.283185307179586, 0.0), (0.0, 0.0), (6.283185307179586, 0.0)]\n"
     ]
    }
   ],
   "source": [
    "#生成器表达式\n",
    "n=3\n",
    "print(\"[[(2*pi*(2*(u/(n-1))-1),2*pi*(2*(v/(n-1))-1)) for u in range(n)] for v in range(n)]->{}\".format([[(2*pi*(2*(u/(n-1))-1),2*pi*(2*(v/(n-1))-1)) for u in range(n)] for v in range(n)]))\n",
    "print(\"_\"*50)\n",
    "print(\"([(2*pi*(2*(u/(n-1))-1),2*pi*(2*(v/(n-1))-1)) for u in range(n)] for v in range(n))->{}\".format(([(2*pi*(2*(u/(n-1))-1),2*pi*(2*(v/(n-1))-1)) for u in range(n)] for v in range(n))))\n",
    "gen=([(2*pi*(2*(u/(n-1))-1),2*pi*(2*(v/(n-1))-1)) for u in range(n)] for v in range(n))\n",
    "print(\"next(gen)->{}\".format(next(gen)))\n",
    "print(\"next(gen)->{}\".format(next(gen)))"
   ]
  },
  {
   "cell_type": "code",
   "execution_count": 95,
   "metadata": {},
   "outputs": [
    {
     "name": "stdout",
     "output_type": "stream",
     "text": [
      "f_convert_a('3.1415')->3.1415\n",
      "f_convert_a('string')->string\n",
      "f_convert_a(3,6,7)->(3, 6, 7)\n"
     ]
    }
   ],
   "source": [
    "#try/except捕捉异常\n",
    "#使用except语句时如果不待任何异常类型，将会捕捉所有异常，但是会捕捉到很多不必要的异常，应该尽量避免使用\n",
    "def f_convert_a(x):\n",
    "    try:\n",
    "        return float(x)\n",
    "    except:\n",
    "        return x\n",
    "print(\"f_convert_a('3.1415')->{}\".format(f_convert_a('3.1415')))    \n",
    "print(\"f_convert_a('string')->{}\".format(f_convert_a('string')))  \n",
    "print(\"f_convert_a(3,6,7)->{}\".format(f_convert_a((3,6,7))))  "
   ]
  },
  {
   "cell_type": "code",
   "execution_count": 133,
   "metadata": {},
   "outputs": [
    {
     "name": "stdout",
     "output_type": "stream",
     "text": [
      "f_convert_c('3.1415')->3.1415\n",
      "f_convert_c('string')->string\n",
      "(3, 6, 7) TypeError\n",
      "f_convert_c(3,6,7)->None\n"
     ]
    }
   ],
   "source": [
    "#使用多条except子句可以指定多个异常处理代码块：\n",
    "def f_convert_c(x):\n",
    "    try:\n",
    "        return float(x)\n",
    "    except ValueError:\n",
    "        return x\n",
    "    except TypeError:\n",
    "        print(x,'TypeError')\n",
    "print(\"f_convert_c('3.1415')->{}\".format(f_convert_c('3.1415')))    \n",
    "print(\"f_convert_c('string')->{}\".format(f_convert_c('string')))  \n",
    "print(\"f_convert_c(3,6,7)->{}\".format(f_convert_c((3,6,7))))         "
   ]
  },
  {
   "cell_type": "code",
   "execution_count": 100,
   "metadata": {},
   "outputs": [
    {
     "name": "stdout",
     "output_type": "stream",
     "text": [
      "f_convert_d('3.1415')->3.1415\n",
      "string ValueError or TypeError\n",
      "f_convert_d('string')->None\n",
      "(3, 6, 7) ValueError or TypeError\n",
      "f_convert_d(3,6,7)->None\n"
     ]
    }
   ],
   "source": [
    "#处理程序也可以捕捉多种类型的异常\n",
    "def f_convert_d(x):\n",
    "    try:\n",
    "        return float(x)\n",
    "    except (ValueError,TypeError):\n",
    "        print(x,'ValueError or TypeError')\n",
    "print(\"f_convert_d('3.1415')->{}\".format(f_convert_d('3.1415')))    \n",
    "print(\"f_convert_d('string')->{}\".format(f_convert_d('string')))  \n",
    "print(\"f_convert_d(3,6,7)->{}\".format(f_convert_d((3,6,7)))) "
   ]
  },
  {
   "cell_type": "code",
   "execution_count": 101,
   "metadata": {},
   "outputs": [
    {
     "name": "stdout",
     "output_type": "stream",
     "text": [
      "f_convert_e('3.1415')->3.1415\n",
      "string could not convert string to float: 'string'\n",
      "f_convert_e('string')->None\n",
      "(3, 6, 7) float() argument must be a string or a number, not 'tuple'\n",
      "f_convert_e(3,6,7)->None\n"
     ]
    }
   ],
   "source": [
    "def f_convert_e(x):\n",
    "    try:\n",
    "        return float(x)\n",
    "    except (ValueError,TypeError) as e:\n",
    "        return print(x,e)\n",
    "print(\"f_convert_e('3.1415')->{}\".format(f_convert_e('3.1415')))    \n",
    "print(\"f_convert_e('string')->{}\".format(f_convert_e('string')))  \n",
    "print(\"f_convert_e(3,6,7)->{}\".format(f_convert_e((3,6,7))))    "
   ]
  },
  {
   "cell_type": "code",
   "execution_count": 102,
   "metadata": {},
   "outputs": [
    {
     "name": "stdout",
     "output_type": "stream",
     "text": [
      "f_convert_f('3.1415')->3.1415\n",
      "f_convert_f('string')->None\n",
      "f_convert_f(3,6,7)->None\n"
     ]
    }
   ],
   "source": [
    "#使用pass语句可以忽略异常\n",
    "def f_convert_f(x):\n",
    "    try:\n",
    "        return float(x)\n",
    "    except (ValueError,TypeError) as e:\n",
    "        pass\n",
    "print(\"f_convert_f('3.1415')->{}\".format(f_convert_f('3.1415')))    \n",
    "print(\"f_convert_f('string')->{}\".format(f_convert_f('string')))  \n",
    "print(\"f_convert_f(3,6,7)->{}\".format(f_convert_f((3,6,7))))     "
   ]
  },
  {
   "cell_type": "code",
   "execution_count": 103,
   "metadata": {},
   "outputs": [
    {
     "name": "stdout",
     "output_type": "stream",
     "text": [
      "Unable to open ./data/tryException.txt :[Errno 2] No such file or directory: './data/tryException.txt'\n",
      "\n",
      "tryException_content->None\n",
      "Unable to open ./data/tryException_.txt :[Errno 2] No such file or directory: './data/tryException_.txt'\n",
      "\n"
     ]
    }
   ],
   "source": [
    "#try语句也支持else子句，但是不需跟在最后一个except子句的后面。如果try代码块中的程序没有引发异常，将会执行else子句中的程序：\n",
    "def f_open_a(fp):\n",
    "    try:\n",
    "        f=open(fp,'r')\n",
    "    except IOError as e:\n",
    "        print('Unable to open',fp,':%s\\n' %e)\n",
    "    else:\n",
    "        data=f.read()\n",
    "        f.close\n",
    "        return data\n",
    "tryException_content=f_open_a(\"./data/tryException.txt\")   \n",
    "print(\"tryException_content->{}\".format(tryException_content))\n",
    "f_open_a(\"./data/tryException_.txt\")"
   ]
  },
  {
   "cell_type": "code",
   "execution_count": 104,
   "metadata": {},
   "outputs": [
    {
     "name": "stdout",
     "output_type": "stream",
     "text": [
      "Unable to open ./data/tryException.txt :[Errno 2] No such file or directory: './data/tryException.txt'\n",
      "\n",
      "done!\n"
     ]
    }
   ],
   "source": [
    "#finally语句为try代码块中的代码定义了结束操作\n",
    "#finally子句不是用于捕捉错误，而是提供一些程序代码，无论程序是否出错误都需要执行该代码\n",
    "#如果没有引发异常，finally子句的代码将在try代码块中的代码执行完毕后立即执行\n",
    "#如果引发了异常，控制权首先传递给finally子句的第一条语句\n",
    "#这段代码执行完毕后，将重新引发异常然后交由另一个异常处理程序进行处理。\n",
    "def f_open_b(fp):\n",
    "    try:\n",
    "        f=open(fp,'r')\n",
    "    except IOError as e:\n",
    "        print('Unable to open',fp,':%s\\n' %e)\n",
    "    else:\n",
    "        data=f.read()\n",
    "        f.close()\n",
    "        return data\n",
    "    finally:\n",
    "        print('done!')\n",
    "f_open_b(\"./data/tryException.txt\")        "
   ]
  },
  {
   "cell_type": "code",
   "execution_count": null,
   "metadata": {},
   "outputs": [],
   "source": []
  },
  {
   "cell_type": "code",
   "execution_count": null,
   "metadata": {},
   "outputs": [],
   "source": []
  },
  {
   "cell_type": "code",
   "execution_count": null,
   "metadata": {},
   "outputs": [],
   "source": []
  }
 ],
 "metadata": {
  "kernelspec": {
   "display_name": "Python 3",
   "language": "python",
   "name": "python3"
  },
  "language_info": {
   "codemirror_mode": {
    "name": "ipython",
    "version": 3
   },
   "file_extension": ".py",
   "mimetype": "text/x-python",
   "name": "python",
   "nbconvert_exporter": "python",
   "pygments_lexer": "ipython3",
   "version": "3.8.5"
  }
 },
 "nbformat": 4,
 "nbformat_minor": 4
}
