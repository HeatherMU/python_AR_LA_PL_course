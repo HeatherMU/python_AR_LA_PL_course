{
 "cells": [
  {
   "cell_type": "code",
   "execution_count": 1,
   "metadata": {},
   "outputs": [
    {
     "name": "stdout",
     "output_type": "stream",
     "text": [
      "Hello python!\n",
      "Hello world!\n",
      "__________________________________________________\n",
      "编程让设计更具创造力！\n",
      "Everybody should learn how to code a computer, because it teaches you how to think, and allows designers more creative!\n",
      "加: 6\n",
      "胡佳玉胡佳玉胡佳玉胡佳玉胡佳玉胡佳玉胡佳玉胡佳玉胡佳玉胡佳玉胡佳玉胡佳玉胡佳玉胡佳玉胡佳玉胡佳玉胡佳玉胡佳玉胡佳玉胡佳玉胡佳玉胡佳玉胡佳玉胡佳玉胡佳玉胡佳玉胡佳玉胡佳玉胡佳玉胡佳玉胡佳玉胡佳玉胡佳玉胡佳玉胡佳玉胡佳玉胡佳玉胡佳玉胡佳玉胡佳玉胡佳玉胡佳玉胡佳玉胡佳玉胡佳玉胡佳玉胡佳玉胡佳玉胡佳玉胡佳玉\n",
      "除: 1.3333333333333333\n",
      "整除 1\n",
      "加: 6\n",
      "减: 2\n",
      "乘: 9\n",
      "除: 1.0\n",
      "余数: 1\n",
      "幂: 27\n",
      "81\n",
      "3\n",
      "__________________________________________________\n"
     ]
    }
   ],
   "source": [
    "print('Hello python!') #打印字符串\n",
    "print(\"Hello world!\")\n",
    "print(\"_\"*50)\n",
    "print(\"编程让设计更具创造力！\")\n",
    "print(\"Everybody should learn how to code a computer, because it teaches you how to think, and allows designers more creative!\")\n",
    "print(\"加:\",3+3)\n",
    "print(\"胡佳玉\"*50)\n",
    "print(\"除:\",4/3)\n",
    "print(\"整除\",4//3)\n",
    "print(\"加:\",3+3) #打印简单的运算\n",
    "print(\"减:\",3-1)\n",
    "print(\"乘:\",3*3)\n",
    "print(\"除:\", 3/3)\n",
    "print(\"余数:\",3%2)\n",
    "print(\"幂:\",3**3)\n",
    "print(9**2)\n",
    "print(13%5)\n",
    "print(\"_\"*50)"
   ]
  },
  {
   "cell_type": "code",
   "execution_count": 2,
   "metadata": {},
   "outputs": [
    {
     "name": "stdout",
     "output_type": "stream",
     "text": [
      "beautiful day\n",
      "胡佳玉美女\n",
      "hell\n",
      "gosh\n",
      "gosh\n",
      "__________________________________________________\n"
     ]
    }
   ],
   "source": [
    "if 250==250:\n",
    "    print(\"beautiful day\")\n",
    "if 250!=250:\n",
    "    print(\"胡佳玉帅哥\")\n",
    "else:\n",
    "    print(\"胡佳玉美女\")\n",
    "if 50*5==250:\n",
    "    print(\"hell\")\n",
    "if 13==13:\n",
    "    print(\"gosh\")\n",
    "else:\n",
    "    print(\"hahaha\")\n",
    "if 14!=13:\n",
    "    print(\"gosh\")\n",
    "else:\n",
    "    print(\"hahaha\")\n",
    "print(\"_\"*50)"
   ]
  },
  {
   "cell_type": "code",
   "execution_count": 29,
   "metadata": {},
   "outputs": [
    {
     "name": "stdout",
     "output_type": "stream",
     "text": [
      "11\n",
      "func= 11\n",
      "func=11.00\n",
      "func=11\n",
      "func=+11.000\n",
      "func=11.00\n",
      "func=+11\n"
     ]
    }
   ],
   "source": [
    "x=5\n",
    "func=2*x+1 #当程序逐行从上至下运行时，注意变量定义的顺序\n",
    "print(func)\n",
    "print(\"func=\",func)\n",
    "print(\"func=%.2f\"%func)#格式化 \"%.2f\"b保留小数点后n位\n",
    "print(\"func=%.f\"%func)# \"%.f\"\n",
    "print(\"func=%+.3f\"%func)#保留符号，并且保留小数点后三位\n",
    "print(\"func={:.2f}\".format(func))#格式化format()\n",
    "print(\"func={:+.0f}\".format(func))#保留整数"
   ]
  },
  {
   "cell_type": "code",
   "execution_count": 19,
   "metadata": {},
   "outputs": [
    {
     "name": "stdout",
     "output_type": "stream",
     "text": [
      "一定要搞懂python\n",
      "现在是凌晨2点\n"
     ]
    }
   ],
   "source": [
    "#%s字符串；%d有符号整数（十进制）；%f浮点数\n",
    "print(\"一定要%spython\"%\"搞懂\")\n",
    "print(\"现在是凌晨%d点\"%2)"
   ]
  },
  {
   "cell_type": "code",
   "execution_count": 24,
   "metadata": {},
   "outputs": [
    {
     "name": "stdout",
     "output_type": "stream",
     "text": [
      "我的名字叫做mdx，我今天吃得很饱饱\n",
      "我的名字叫做mdx，mdx今天吃得很饱饱\n",
      "我的名字叫做mdx，mdx今天吃得很饱饱\n"
     ]
    }
   ],
   "source": [
    "#format函数\n",
    "#普通用法，format中的参数，对应{}的依次替换\n",
    "print(\"我的{}叫做{}，我今天吃得很{}\".format(\"名字\",\"mdx\",\"饱饱\"))\n",
    "#设置位置（索引）格式化，format函数中，按索引的参数替换字符串\n",
    "print(\"我的{0}叫做{1}，{1}今天吃得很{2}\".format(\"名字\",\"mdx\",\"饱饱\"))\n",
    "#指定替换参数的值\n",
    "str=\"我的{aa}叫做{bb}，{bb}今天吃得很{cc}\".format(aa=\"名字\",bb=\"mdx\",cc=\"饱饱\")\n",
    "print(str)"
   ]
  },
  {
   "cell_type": "code",
   "execution_count": 30,
   "metadata": {},
   "outputs": [
    {
     "name": "stdout",
     "output_type": "stream",
     "text": [
      "monadic_equation= 11.0\n",
      "monadic_equation=11.00\n",
      "monadic_equation=11.00\n"
     ]
    }
   ],
   "source": [
    "x=5.0\n",
    "monadic_equation=2*x+1#monadic equation:一元方程\n",
    "print(\"monadic_equation=\",monadic_equation)\n",
    "print(\"monadic_equation=%.2f\"%monadic_equation) #%字符串格式化方法1\n",
    "print(\"monadic_equation={:.2f}\".format(monadic_equation)) #format()字符串格式化方法2\n",
    "#object.method(item) %和format格式化是“方法”"
   ]
  },
  {
   "cell_type": "code",
   "execution_count": 31,
   "metadata": {},
   "outputs": [
    {
     "name": "stdout",
     "output_type": "stream",
     "text": [
      "The longitude of the Xi'an coordinate is 108.94, and the latitude is 34.261013.\n",
      "the longitude of xi'an is 108.942292\n"
     ]
    }
   ],
   "source": [
    "city_name=\"Xi'an\"\n",
    "coordinate_longitude=108.942292\n",
    "coordiante_latitude=34.261013\n",
    "print(\"The longitude of the Xi'an coordinate is {lon:.2f}, and the latitude is {lat}.\".format(lon=coordinate_longitude,lat=coordiante_latitude))\n",
    "print(\"the longitude of xi'an is {lon:2f}\".format(lon=coordinate_longitude))"
   ]
  },
  {
   "cell_type": "code",
   "execution_count": 11,
   "metadata": {},
   "outputs": [
    {
     "name": "stdout",
     "output_type": "stream",
     "text": [
      "x=2,y=5,b=7,func_2=26,\n"
     ]
    }
   ],
   "source": [
    "x,y,b=2,5,7 \n",
    "func_2=2*x+3*y+b\n",
    "print(\"x={},y={},b={},func_2={},\".format(x,y,b,func_2))\n",
    "x,y,*z=0,1,2,3,4,5,6\n",
    "#unpacking 序列解包：*表达式获取单个变量中的多个元素，* 获取的值默认为 list\n",
    "; x,y,*z=0,1; (x,y),(a,b)=(0,1),(2,3)"
   ]
  },
  {
   "cell_type": "code",
   "execution_count": 13,
   "metadata": {},
   "outputs": [
    {
     "name": "stdout",
     "output_type": "stream",
     "text": [
      "[3, 4]\n"
     ]
    }
   ],
   "source": [
    "a, b, *c=[1,2,3,4]#多变量解包\n",
    "print(c)"
   ]
  },
  {
   "cell_type": "code",
   "execution_count": 14,
   "metadata": {},
   "outputs": [
    {
     "name": "stdout",
     "output_type": "stream",
     "text": [
      "1\n",
      "[2, 3]\n",
      "4\n"
     ]
    }
   ],
   "source": [
    "n=[1,2,3,4]# 使用切片操作\n",
    "a,b,c=n[0],n[1:-1],n[-1]\n",
    "print(a)\n",
    "print(b)\n",
    "print(c)"
   ]
  },
  {
   "cell_type": "code",
   "execution_count": 38,
   "metadata": {},
   "outputs": [
    {
     "name": "stdout",
     "output_type": "stream",
     "text": [
      "[2, 3, 4, 5, 6]\n",
      "[]\n",
      "0\n",
      "1\n",
      "2 3\n"
     ]
    }
   ],
   "source": [
    "#尝试，x,y,*z=0,1,2,3,4,5,6;x,y,*z=0,1; (x,y),(a,b)=(0,1),(2,3)\n",
    "x,y,*z=0,1,2,3,4,5,6\n",
    "print(z)\n",
    "x,y,*z=0,1\n",
    "print(z)\n",
    "(x,y),(a,b)=(0,1),(2,3)\n",
    "print(x)\n",
    "print(y)\n",
    "print(a,b)"
   ]
  },
  {
   "cell_type": "code",
   "execution_count": 41,
   "metadata": {},
   "outputs": [
    {
     "name": "stdout",
     "output_type": "stream",
     "text": [
      "[5, 8, 11, 14, 17]\n",
      "The list length=5\n",
      "Maximum value=17\n",
      "Minimum value=5\n"
     ]
    }
   ],
   "source": [
    "lst_n=list(range(5,20,3)) #建立列表。range(start,stop,[,step])建立区间。\n",
    "print(lst_n)#包含前面不包含后面\n",
    "print(\"The list length={}\".format(len(lst_n)))\n",
    "print(\"Maximum value={}\".format(max(lst_n)))\n",
    "print(\"Minimum value={}\".format(min(lst_n)))"
   ]
  },
  {
   "cell_type": "code",
   "execution_count": 72,
   "metadata": {},
   "outputs": [
    {
     "name": "stdout",
     "output_type": "stream",
     "text": [
      "Help on class map in module builtins:\n",
      "\n",
      "class map(object)\n",
      " |  map(func, *iterables) --> map object\n",
      " |  \n",
      " |  Make an iterator that computes the function using arguments from\n",
      " |  each of the iterables.  Stops when the shortest iterable is exhausted.\n",
      " |  \n",
      " |  Methods defined here:\n",
      " |  \n",
      " |  __getattribute__(self, name, /)\n",
      " |      Return getattr(self, name).\n",
      " |  \n",
      " |  __iter__(self, /)\n",
      " |      Implement iter(self).\n",
      " |  \n",
      " |  __next__(self, /)\n",
      " |      Implement next(self).\n",
      " |  \n",
      " |  __reduce__(...)\n",
      " |      Return state information for pickling.\n",
      " |  \n",
      " |  ----------------------------------------------------------------------\n",
      " |  Static methods defined here:\n",
      " |  \n",
      " |  __new__(*args, **kwargs) from builtins.type\n",
      " |      Create and return a new object.  See help(type) for accurate signature.\n",
      "\n",
      "Help on built-in function chr in module builtins:\n",
      "\n",
      "chr(i, /)\n",
      "    Return a Unicode string of one character with ordinal i; 0 <= i <= 0x10ffff.\n",
      "\n"
     ]
    }
   ],
   "source": [
    "help(map) #用help()方法查看说明\n",
    "help(chr)"
   ]
  },
  {
   "cell_type": "code",
   "execution_count": 44,
   "metadata": {},
   "outputs": [
    {
     "name": "stdout",
     "output_type": "stream",
     "text": [
      "['d', 'e', 'f', 'g', 'h', 'i', 'j', 'k', 'l', 'm']\n",
      "__________________________________________________\n",
      "[3:6]->['g', 'h', 'i']\n",
      "[-3:-1]->['k', 'l']\n",
      "[-3:]->['k', 'l', 'm']\n",
      "[:3]->['d', 'e', 'f']\n",
      "[:]->['d', 'e', 'f', 'g', 'h', 'i', 'j', 'k', 'l', 'm']\n",
      "[4:6]->['h', 'i']\n",
      "Help on class map in module builtins:\n",
      "\n",
      "class map(object)\n",
      " |  map(func, *iterables) --> map object\n",
      " |  \n",
      " |  Make an iterator that computes the function using arguments from\n",
      " |  each of the iterables.  Stops when the shortest iterable is exhausted.\n",
      " |  \n",
      " |  Methods defined here:\n",
      " |  \n",
      " |  __getattribute__(self, name, /)\n",
      " |      Return getattr(self, name).\n",
      " |  \n",
      " |  __iter__(self, /)\n",
      " |      Implement iter(self).\n",
      " |  \n",
      " |  __next__(self, /)\n",
      " |      Implement next(self).\n",
      " |  \n",
      " |  __reduce__(...)\n",
      " |      Return state information for pickling.\n",
      " |  \n",
      " |  ----------------------------------------------------------------------\n",
      " |  Static methods defined here:\n",
      " |  \n",
      " |  __new__(*args, **kwargs) from builtins.type\n",
      " |      Create and return a new object.  See help(type) for accurate signature.\n",
      "\n",
      "Help on built-in function chr in module builtins:\n",
      "\n",
      "chr(i, /)\n",
      "    Return a Unicode string of one character with ordinal i; 0 <= i <= 0x10ffff.\n",
      "\n"
     ]
    }
   ],
   "source": [
    "lst_s=list(map(chr,range(100,110)))#分片:按照一定的顺序访问序列中某一范围内的元素\n",
    "#在一定的访问顺序中，indexStart所对应的元素必须先于indexEnd所对应的元素被访问到，否则分片操作返回的就是空的序列\n",
    "#先看访问顺序，其实就是先看步长，因访问顺序是由步长来决定的，\n",
    "#当步长为正时：按从原始序列sequence的头部(从左)到尾部(到右)的顺序访问序列中的元素，indexStart在原始序列sequence中所对应的元素必须出现在indexEnd所对应的元素的左边\n",
    "#当步长为负时：按从原始序列sequence的尾部(从右)到头部(到左)的顺序访问序列中的元素，indexStart在原始序列sequence中所对应的元素必须出现在indexEnd所对应的元素的右边\n",
    "print(lst_s)\n",
    "print(\"_\"*50)\n",
    "print(\"[3:6]->{}\".format(lst_s[3:6]))#步长为1\n",
    "print(\"[-3:-1]->{}\".format(lst_s[-3:-1]))\n",
    "print(\"[-3:]->{}\".format(lst_s[-3:]))\n",
    "print(\"[:3]->{}\".format(lst_s[:3]))\n",
    "print(\"[:]->{}\".format(lst_s[:]))\n",
    "print(\"[4:6]->{}\".format(lst_s[4:6]))"
   ]
  },
  {
   "cell_type": "code",
   "execution_count": 45,
   "metadata": {},
   "outputs": [
    {
     "name": "stdout",
     "output_type": "stream",
     "text": [
      "['d', 'e', 'f', 'g', 'h', 'i', 'j', 'k', 'l', 'm']\n",
      "__________________________________________________\n",
      "[0:10:2]->['d', 'f', 'h', 'j', 'l']\n",
      "[0:9:2]->['d', 'f', 'h', 'j', 'l']\n",
      "[0:10:3]->['d', 'g', 'j', 'm']\n",
      "[::3]->['d', 'g', 'j', 'm']\n",
      "[9:3:-2]->['m', 'k', 'i']\n",
      "[10:3:-2]->['m', 'k', 'i']\n",
      "[20:3:-2]->['m', 'k', 'i']\n",
      "[7::-2]->['k', 'i', 'g', 'e']\n",
      "[:3:-2]->['m', 'k', 'i']\n"
     ]
    }
   ],
   "source": [
    "print(lst_s)\n",
    "print(\"_\"*50)\n",
    "print(\"[0:10:2]->{}\".format(lst_s[0:10:2]))#带不等于1的步长\n",
    "print(\"[0:9:2]->{}\".format(lst_s[0:9:2]))\n",
    "print(\"[0:10:3]->{}\".format(lst_s[0:10:3]))\n",
    "print(\"[::3]->{}\".format(lst_s[::3]))\n",
    "print(\"[9:3:-2]->{}\".format(lst_s[9:3:-2]))\n",
    "print(\"[10:3:-2]->{}\".format(lst_s[10:3:-2]))\n",
    "print(\"[20:3:-2]->{}\".format(lst_s[20:3:-2]))\n",
    "print(\"[7::-2]->{}\".format(lst_s[7::-2]))\n",
    "print(\"[:3:-2]->{}\".format(lst_s[:3:-2]))"
   ]
  },
  {
   "cell_type": "code",
   "execution_count": 52,
   "metadata": {},
   "outputs": [
    {
     "name": "stdout",
     "output_type": "stream",
     "text": [
      "['d', 'e', 'f', 'g', 'h', 99, 'j', 'k', 'l', 'm']\n",
      "lst_s[5]=99->['d', 'e', 'f', 'g', 'h', 99, 'j', 'k', 'l', 'm']\n",
      "lst_s+[None]*6->['d', 'e', 'f', 'g', 'h', 99, 'j', 'k', 'l', 'm', None, None, None, None, None, None]\n",
      "lst_none[13]=2015->['d', 'e', 'f', 'g', 'h', 99, 'j', 'k', 'l', 'm', None, None, None, 2015, None, None]\n",
      "lst_none[-6:-3]=list(range(100,106,2))->['d', 'e', 'f', 'g', 'h', 99, 'j', 'k', 'l', 'm', 100, 102, 104, 2015, None, None]\n",
      "lst_none[-6:-3]=list(range(100,104,2))->['d', 'e', 'f', 'g', 'h', 99, 'j', 'k', 'l', 'm', 100, 102, 2015, None, None]\n",
      "lst_none[1:1]=[0,0,0,12]->['d', 0, 0, 0, 12, 'e', 'f', 'g', 'h', 99, 'j', 'k', 'l', 'm', 100, 102, 2015, None, None]\n",
      "lst_none[0:0]=[0,0,0,12]->[0, 0, 0, 12, 'd', 0, 0, 0, 12, 'e', 'f', 'g', 'h', 99, 'j', 'k', 'l', 'm', 100, 102, 2015, None, None]\n",
      "lst_none[1:2]=[0,0,0,12]->[0, 0, 0, 0, 12, 0, 12, 'd', 0, 0, 0, 12, 'e', 'f', 'g', 'h', 99, 'j', 'k', 'l', 'm', 100, 102, 2015, None, None]\n",
      "del lst_none[-2:]->[0, 0, 0, 0, 12, 0, 12, 'd', 0, 0, 0, 12, 'e', 'f', 'g', 'h', 99, 'j', 'k', 'l', 'm', 100, 102, 2015]\n",
      "del lst_none[:-2]->[102, 2015]\n"
     ]
    }
   ],
   "source": [
    "print(lst_s)\n",
    "lst_s[5]=99 #元素赋值,替换\n",
    "print(\"lst_s[5]=99->{}\".format(lst_s))\n",
    "lst_none=lst_s+[None]*6#合并\n",
    "print(\"lst_s+[None]*6->{}\".format(lst_none))\n",
    "lst_none[13]=2015\n",
    "print(\"lst_none[13]=2015->{}\".format(lst_none))\n",
    "lst_none[-6:-3]=list(range(100,106,2)) #分片赋值\n",
    "print(\"lst_none[-6:-3]=list(range(100,106,2))->{}\".format(lst_none))\n",
    "lst_none[-6:-3]=list(range(100,104,2)) #分片赋值,分片区间和赋值区间长度不相同，从左到右\n",
    "print(\"lst_none[-6:-3]=list(range(100,104,2))->{}\".format(lst_none))\n",
    "lst_none[1:1]=[0,0,0,12]#0，1之间插入\n",
    "print(\"lst_none[1:1]=[0,0,0,12]->{}\".format(lst_none))\n",
    "lst_none[0:0]=[0,0,0,12]\n",
    "print(\"lst_none[0:0]=[0,0,0,12]->{}\".format(lst_none))\n",
    "lst_none[1:2]=[0,0,0,12]#替换第1个\n",
    "print(\"lst_none[1:2]=[0,0,0,12]->{}\".format(lst_none))\n",
    "del lst_none[-2:] #删除元素\n",
    "print(\"del lst_none[-2:]->{}\".format(lst_none))\n",
    "del lst_none[:-2]\n",
    "print(\"del lst_none[:-2]->{}\".format(lst_none))"
   ]
  },
  {
   "cell_type": "code",
   "execution_count": 79,
   "metadata": {},
   "outputs": [
    {
     "name": "stdout",
     "output_type": "stream",
     "text": [
      "['d', 'e', 'f', 'g', 'h']\n",
      "['A', 'B', 'C', 'D', 'E', 'F', 'G', 'H', 'I', 'J']\n",
      "['B', 'C', 'D']\n"
     ]
    }
   ],
   "source": [
    "lst_s_2=list(map(chr,range(100,105)))\n",
    "print(lst_s_2)\n",
    "#chr函数：查找对应的ascii码\n",
    "lst_3=list(map(chr,range(65,75)))\n",
    "print(lst_3)\n",
    "lst_4=list(map(chr,[66,67,68]))\n",
    "print(lst_4)"
   ]
  },
  {
   "cell_type": "code",
   "execution_count": 105,
   "metadata": {},
   "outputs": [
    {
     "name": "stdout",
     "output_type": "stream",
     "text": [
      "[100, 102, 103, 104, 105]\n",
      "[1, 2, 3]\n"
     ]
    }
   ],
   "source": [
    "lst1=list(map(int,(100,102,103,104,105)))#map函数用法:转换xx格式为list\n",
    "print(lst1)\n",
    "lst2=list(map(int,'123'))#字符串转换为list\n",
    "print(lst2)"
   ]
  },
  {
   "cell_type": "code",
   "execution_count": 131,
   "metadata": {},
   "outputs": [
    {
     "name": "stdout",
     "output_type": "stream",
     "text": [
      "{16}\n",
      "[{1}, {4}, {9}, {16}]\n"
     ]
    }
   ],
   "source": [
    "def func(x):\n",
    "    return{x**2}\n",
    "\n",
    "print(func(4))\n",
    "lst3=list(map(func,(1,2,3,4)))  \n",
    "print(lst3)#map函数加自定义函数"
   ]
  },
  {
   "cell_type": "code",
   "execution_count": 135,
   "metadata": {},
   "outputs": [
    {
     "name": "stdout",
     "output_type": "stream",
     "text": [
      "['d', 'e', 'f', 'g', 'h']\n",
      "lst_s_2.append(99)->['d', 'e', 'f', 'g', 'h', 99]\n",
      "['d', 'e', 'f', 'g', 'h', 99, 886]\n",
      "['d', 'e', 'f', 'g', 'h', 99, 886, [50, 55, 60, 65, 70, 75]]\n"
     ]
    }
   ],
   "source": [
    "lst_s_2=list(map(chr,range(100,105)))\n",
    "print(lst_s_2)\n",
    "lst_s_2.append(99)#append方法：在末尾添加新对象，append：附加\n",
    "print(\"lst_s_2.append(99)->{}\".format(lst_s_2))\n",
    "lst_s_2.append(886)\n",
    "print(lst_s_2)\n",
    "lst_s_2.append(list(range(50,80,5)))#加list\n",
    "print(lst_s_2)"
   ]
  },
  {
   "cell_type": "code",
   "execution_count": 151,
   "metadata": {},
   "outputs": [
    {
     "name": "stdout",
     "output_type": "stream",
     "text": [
      "lst_s_2.extend(lst_spechars)->['d', 'e', [1000, 1200, 1500], [1000, 1200, 1500], [1000, 1200, 1500], 'f', 'g', [50, 55, 60, 65, 70, 75], '*', ')', '*', '*', ')', '*', '*', ')', '*', '*', ')', '*', '*', ')', '*', '*', ')', '*', '*', ')', '*', '*', ')', '*', '*', ')', '*', '*', ')', '*', '*', ')', '*', '*', ')', '*']\n",
      "lst_s_2.count('*')=24\n",
      "lst_s_2.index('e')=1\n"
     ]
    }
   ],
   "source": [
    "lst_sa=['*',')','*']\n",
    "lst_s_2.extend(lst_sa)#extend函数：list叠加\n",
    "print(\"lst_s_2.extend(lst_spechars)->{}\".format(lst_s_2))\n",
    "print(\"lst_s_2.count('*')={}\".format(lst_s_2.count('*')))#运行n次的结果\n",
    "#带索引值的count方法in string\n",
    "print(\"lst_s_2.index('e')={}\".format(lst_s_2.index('e')))#查找对象的索引位置，没有对象error"
   ]
  },
  {
   "cell_type": "code",
   "execution_count": 160,
   "metadata": {},
   "outputs": [
    {
     "name": "stdout",
     "output_type": "stream",
     "text": [
      "lst_s_2.insert(2,[1000,1200,1500])->['d', 'e', [1000, 1200, 1500], [1000, 1200, 1500], [1000, 1200, 1500], [1000, 1200, 1500], [1000, 1200, 1500], [1000, 1200, 1500], [1000, 1200, 1500], [1000, 1200, 1500], [50, 55, 60, 65, 70, 75], ')', '*', '*', ')', '*', '*', ')', '*', '*', ')', '*', '*', ')', '*', '*', ')', '*', '*', ')', '*', '*', ')', '*', '*', ')', '*', '*', ')', '*', '*', ')', '*', '*', ')', '*']\n",
      "lst_s_2.insert(4,[14,15])->['d', 'e', [1000, 1200, 1500], [1000, 1200, 1500], [1000, 1200, 1500], [1000, 1200, 1500], [1000, 1200, 1500], [14, 15], [1000, 1200, 1500], [1000, 1200, 1500], [1000, 1200, 1500], [50, 55, 60, 65, 70, 75], ')', '*', '*', ')', '*', '*', ')', '*', '*', ')', '*', '*', ')', '*', '*', ')', '*', '*', ')', '*', '*', ')', '*', '*', ')', '*', '*', ')', '*', '*', ')', '*', '*', ')', '*']\n"
     ]
    }
   ],
   "source": [
    "lst_s_2.insert(2,[1000,1200,1500])#插入到索引2的后面\n",
    "print(\"lst_s_2.insert(2,[1000,1200,1500])->{}\".format(lst_s_2))\n",
    "lst_s_2.insert(7,[14,15])\n",
    "print(\"lst_s_2.insert(4,[14,15])->{}\".format(lst_s_2))"
   ]
  },
  {
   "cell_type": "code",
   "execution_count": 177,
   "metadata": {},
   "outputs": [
    {
     "name": "stdout",
     "output_type": "stream",
     "text": [
      "list_n_2.sort()->[2, 3, 4, 6, 42, 95]\n"
     ]
    }
   ],
   "source": [
    "list_n_2=[2,42,6,95,4,3]\n",
    "list_n_2.sort()#默认升序排序\n",
    "print(\"list_n_2.sort()->{}\".format(list_n_2))"
   ]
  },
  {
   "cell_type": "code",
   "execution_count": 155,
   "metadata": {},
   "outputs": [
    {
     "name": "stdout",
     "output_type": "stream",
     "text": [
      "lst_m.pop(3)_popup->g\n",
      "lst_m.pop(3)_retention->['d', 'e', 'f', 'h']\n"
     ]
    }
   ],
   "source": [
    "lst_m=list(map(chr,range(100,105)))\n",
    "print(\"lst_m.pop(3)_popup->{}\".format(lst_m.pop(3)))\n",
    "print(\"lst_m.pop(3)_retention->{}\".format(lst_m))#retention:保留"
   ]
  },
  {
   "cell_type": "code",
   "execution_count": 173,
   "metadata": {},
   "outputs": [
    {
     "name": "stdout",
     "output_type": "stream",
     "text": [
      "['d', 'e', [22, 22, 22], 's', 's', 'f', 'h']\n"
     ]
    }
   ],
   "source": [
    "print(lst_m)"
   ]
  },
  {
   "cell_type": "code",
   "execution_count": 174,
   "metadata": {
    "scrolled": true
   },
   "outputs": [
    {
     "name": "stdout",
     "output_type": "stream",
     "text": [
      "lst_m.remove('s')_retention->['d', 'e', [22, 22, 22], 's', 'f', 'h']\n"
     ]
    }
   ],
   "source": [
    "lst_m.remove('s')#移除符合的第一个元素\n",
    "print(\"lst_m.remove('s')_retention->{}\".format(lst_m))"
   ]
  },
  {
   "cell_type": "code",
   "execution_count": 179,
   "metadata": {},
   "outputs": [
    {
     "name": "stdout",
     "output_type": "stream",
     "text": [
      "tuple_1=2,3,5,->(2, 3, 5)\n",
      "3*(20*3,)->(60, 60, 60)\n",
      "tuple((5,8,9))->(5, 8, 9)\n",
      "tuple([5,8,9])->(5, 8, 9)\n"
     ]
    }
   ],
   "source": [
    "tuple_1=2,3,5,\n",
    "print(\"tuple_1=2,3,5,->{}\".format(tuple_1))\n",
    "print(\"3*(20*3,)->{}\".format(3*(20*3,)))\n",
    "print(\"tuple((5,8,9))->{}\".format(tuple((5,8,9)))) #用()\n",
    "print(\"tuple([5,8,9])->{}\".format(tuple([5,8,9]))) #用[]"
   ]
  },
  {
   "cell_type": "code",
   "execution_count": 180,
   "metadata": {},
   "outputs": [
    {
     "name": "stdout",
     "output_type": "stream",
     "text": [
      "items->[(0, [0, 1, 2, 3, 4]), (1, [[196, 119, 174]]), (2, 'python')]\n",
      "dic=dict(items)->{0: [0, 1, 2, 3, 4], 1: [[196, 119, 174]], 2: 'python'}\n",
      "dic[1]->[[196, 119, 174]]\n"
     ]
    }
   ],
   "source": [
    "#dict只需要考虑使用键寻找值的方法，而不用像列表一样计算项值位置的索引值再提取项值\n",
    "import random\n",
    "items=[(0,[i for i in range(5)]),(1,[random.sample(list(range(100,200,1)),3)]),(2,'python')] #[i for i in range(5)] 为列表推导式 list comprehension/derivation\n",
    "print(\"items->{}\".format(items))\n",
    "dic=dict(items)\n",
    "print(\"dic=dict(items)->{}\".format(dic))\n",
    "print(\"dic[1]->{}\".format(dic[1]))"
   ]
  },
  {
   "cell_type": "code",
   "execution_count": 184,
   "metadata": {},
   "outputs": [
    {
     "name": "stdout",
     "output_type": "stream",
     "text": [
      "items->[(3, (1, 2, 3)), (4, [5, 6, 7]), (1, '哈哈')]\n",
      "dic[3]->(1, 2, 3)\n",
      "dic[1]->哈哈\n"
     ]
    }
   ],
   "source": [
    "import random\n",
    "items=[(3,(1,2,3)),(4,[5,6,7]),(1,\"哈哈\")]\n",
    "#字典中的键必须是唯一的，并且键的类型必须是不可变的数据类型，如字符串，数字或元组:不能是list\n",
    "print(\"items->{}\".format(items))\n",
    "dic=dict(items)\n",
    "print(\"dic[3]->{}\".format(dic[3]))\n",
    "print(\"dic[1]->{}\".format(dic[1]))"
   ]
  },
  {
   "cell_type": "code",
   "execution_count": 190,
   "metadata": {},
   "outputs": [
    {
     "name": "stdout",
     "output_type": "stream",
     "text": [
      "len(dic)->2\n",
      "dic[3]=(random.random(),random.uniform(200,300))->{3: (0.6142332391438945, 271.1587314529925), 4: [5, 6, 7]}\n",
      "del dic[4]->{3: (0.6142332391438945, 271.1587314529925)}\n"
     ]
    }
   ],
   "source": [
    "print(\"len(dic)->{}\".format(len(dic)))#len(dic)测量长度\n",
    "dic[3]=(random.random(),random.uniform(200,300))#random.random生成0-1随机浮点数；random.uniform(x,y)生成x-y随机\n",
    "print(\"dic[3]=(random.random(),random.uniform(200,300))->{}\".format(dic))\n",
    "del dic[4]\n",
    "print(\"del dic[4]->{}\".format(dic))#删除"
   ]
  },
  {
   "cell_type": "code",
   "execution_count": 191,
   "metadata": {},
   "outputs": [
    {
     "name": "stdout",
     "output_type": "stream",
     "text": [
      "3 in dic->True\n",
      "5 in dic->False\n",
      "dic.keys()->dict_keys([3])\n",
      "dic.values()->dict_values([(0.6142332391438945, 271.1587314529925)])\n",
      "dic.items()->dict_items([(3, (0.6142332391438945, 271.1587314529925))])\n",
      "__________________________________________________\n",
      "list(dic.keys())->[3]\n"
     ]
    }
   ],
   "source": [
    "print(\"3 in dic->{}\".format(3 in dic))#里面有3true\n",
    "print(\"5 in dic->{}\".format(5 in dic))#里面没5false\n",
    "print(\"dic.keys()->{}\".format(dic.keys())) #返回所有的键\n",
    "print(\"dic.values()->{}\".format(dic.values()))#返回所有的值\n",
    "print(\"dic.items()->{}\".format(dic.items()))#返回列表，但元素是元组\n",
    "print(\"_\"*50)\n",
    "print(\"list(dic.keys())->{}\".format(list(dic.keys())))#列出键"
   ]
  },
  {
   "cell_type": "code",
   "execution_count": 193,
   "metadata": {},
   "outputs": [
    {
     "name": "stdout",
     "output_type": "stream",
     "text": [
      "lst_A=[6, 9, 12, 15, 18],lst_B=[100, 115, 130, 145]\n",
      "dic_2={0: [6, 9, 12, 15, 18], 1: [100, 115, 130, 145]}\n",
      "__________________________________________________\n",
      "dic_assignment={0: [6, 9, 12, 15, 18], 1: [100, 115, 130, 145]}\n",
      "dic_2.clear()->{}\n",
      "dic_assignment={}\n",
      "dic_2[5]=list(range(1,9,2))->{5: [1, 3, 5, 7]}\n",
      "dic_copy=dic_2.copy()->{5: [1, 3, 5, 7]}\n",
      "dic_2[8]=[5,7]->{5: [1, 3, 5, 7], 8: [5, 7]}\n",
      "dic_copy={5: [1, 3, 5, 7]}\n",
      "dic_copy[5].remove(5)->{5: [1, 3, 7]}\n",
      "dic_copy.setdefault(6,[77,99])->{5: [1, 3, 7], 6: [77, 99]}\n",
      "dic_2.pop(5)->{8: [5, 7]}\n",
      "dic_update={8: [5, 7, 6, 3, 2], 9: [3, 2, 33, 55, 66]}\n",
      "dic_2.update(dic_update->{8: [5, 7, 6, 3, 2], 9: [3, 2, 33, 55, 66]}\n",
      "dic_2.get(9)->[3, 2, 33, 55, 66]\n",
      "dic_2.popitem()->{8: [5, 7, 6, 3, 2]}\n",
      "dic_3={}.fromkeys([0,1,2,3,4,'A'])->{0: None, 1: None, 2: None, 3: None, 4: None, 'A': None}\n"
     ]
    }
   ],
   "source": [
    "#字典的方法\n",
    "lst_A=list(range(6,20,3))\n",
    "lst_B=list(range(100,150,15))\n",
    "print(\"lst_A={},lst_B={}\".format(lst_A,lst_B))\n",
    "dic_2={0:lst_A,1:lst_B}\n",
    "print(\"dic_2={}\".format(dic_2))\n",
    "print(\"_\"*50)\n",
    "dic_assignment=dic_2\n",
    "print(\"dic_assignment={}\".format(dic_assignment))\n",
    "dic_2.clear()\n",
    "print(\"dic_2.clear()->{}\".format(dic_2))\n",
    "print(\"dic_assignment={}\".format(dic_assignment))\n",
    "dic_2[5]=list(range(1,9,2))\n",
    "print(\"dic_2[5]=list(range(1,9,2))->{}\".format(dic_2))\n",
    "dic_copy=dic_2.copy()\n",
    "print(\"dic_copy=dic_2.copy()->{}\".format(dic_copy))\n",
    "dic_2[8]=[5,7]\n",
    "print(\"dic_2[8]=[5,7]->{}\".format(dic_2))\n",
    "print(\"dic_copy={}\".format(dic_copy))\n",
    "dic_copy[5].remove(5)\n",
    "print(\"dic_copy[5].remove(5)->{}\".format(dic_copy))\n",
    "dic_copy.setdefault(6,[77,99]) #返回指定键的值，如果不存在该键，则字典增加新的键/值对\n",
    "print(\"dic_copy.setdefault(6,[77,99])->{}\".format(dic_copy))\n",
    "dic_2.pop(5) #移除指定键/值，并返回该值\n",
    "print(\"dic_2.pop(5)->{}\".format(dic_2))\n",
    "dic_update={8:[5,7,6,3,2],9:[3,2,33,55,66]}\n",
    "print(\"dic_update={}\".format(dic_update))\n",
    "dic_2.update(dic_update) #更新字典\n",
    "print(\"dic_2.update(dic_update->{}\".format(dic_2))\n",
    "print(\"dic_2.get(9)->{}\".format(dic_2.get(9)))\n",
    "dic_2.popitem() #随即弹出一对键/值，并在该字典中移除\n",
    "print(\"dic_2.popitem()->{}\".format(dic_2))\n",
    "\n",
    "dic_3={}.fromkeys([0,1,2,3,4,'A']) #给定键，建立值为空的字典\n",
    "print(\"dic_3={}\"+\".fromkeys([0,1,2,3,4,'A'])->{}\".format(dic_3)) #找下escape characters 脱字符"
   ]
  },
  {
   "cell_type": "code",
   "execution_count": null,
   "metadata": {},
   "outputs": [],
   "source": []
  },
  {
   "cell_type": "code",
   "execution_count": null,
   "metadata": {},
   "outputs": [],
   "source": []
  }
 ],
 "metadata": {
  "kernelspec": {
   "display_name": "Python 3",
   "language": "python",
   "name": "python3"
  },
  "language_info": {
   "codemirror_mode": {
    "name": "ipython",
    "version": 3
   },
   "file_extension": ".py",
   "mimetype": "text/x-python",
   "name": "python",
   "nbconvert_exporter": "python",
   "pygments_lexer": "ipython3",
   "version": "3.8.5"
  }
 },
 "nbformat": 4,
 "nbformat_minor": 4
}
